{
 "cells": [
  {
   "cell_type": "code",
   "execution_count": 1,
   "outputs": [
    {
     "name": "stdout",
     "output_type": "stream",
     "text": [
      "/Users/billdeng/anaconda3/envs/de_novo/bin/python\n"
     ]
    }
   ],
   "source": [
    "import sys\n",
    "import pyBigWig\n",
    "print(sys.executable)"
   ],
   "metadata": {
    "collapsed": false
   }
  },
  {
   "cell_type": "markdown",
   "source": [],
   "metadata": {
    "collapsed": false
   }
  },
  {
   "cell_type": "code",
   "execution_count": null,
   "outputs": [],
   "source": [
    "from Bio import SeqIO\n",
    "import os"
   ],
   "metadata": {
    "collapsed": false
   }
  },
  {
   "cell_type": "markdown",
   "source": [
    "First, read and visualize input and output data."
   ],
   "metadata": {
    "collapsed": false
   }
  },
  {
   "cell_type": "code",
   "execution_count": null,
   "outputs": [],
   "source": [
    "# Get the current working directory\n",
    "current_dir = os.getcwd()\n",
    "\n",
    "# Print the current working directory\n",
    "print(f\"The current working directory is: {current_dir}\")"
   ],
   "metadata": {
    "collapsed": false
   }
  },
  {
   "cell_type": "code",
   "execution_count": null,
   "outputs": [],
   "source": [
    "# Path to FASTA file\n",
    "fasta_file = '../data/input.fa'\n",
    "\n",
    "# Initialize an empty dictionary to store sequences\n",
    "chromosomes = {}\n",
    "\n",
    "# Using SeqIO.parse to read the FASTA file\n",
    "for record in SeqIO.parse(fasta_file, \"fasta\"):\n",
    "    chromosome_name = record.id\n",
    "    sequence = str(record.seq)\n",
    "    chromosomes[chromosome_name] = sequence\n",
    "\n",
    "# Now, chromosomes dictionary contains all the sequences\n",
    "# For example, to access the sequence for chromosome 1, you can use:\n",
    "# chromosome_1_sequence = chromosomes['1']\n",
    "\n",
    "# If you want to print out the names of all chromosomes read, you can do:\n",
    "# print(\"Chromosomes read from the FASTA file:\")\n",
    "# for chromosome in chromosomes.keys():\n",
    "#     print(chromosome)"
   ],
   "metadata": {
    "collapsed": false
   }
  },
  {
   "cell_type": "code",
   "execution_count": null,
   "outputs": [],
   "source": [
    "for chromosome in chromosomes.keys():\n",
    "    print(chromosome)\n",
    "    # print(type(chromosome))  # This will print the type of the chromosome variable"
   ],
   "metadata": {
    "collapsed": false
   }
  },
  {
   "cell_type": "code",
   "execution_count": null,
   "id": "fb207357-326c-4ba2-b757-099fa01e184e",
   "metadata": {},
   "outputs": [],
   "source": [
    "print(type(chromosomes[chromosome_name]))"
   ]
  },
  {
   "cell_type": "code",
   "execution_count": null,
   "outputs": [],
   "source": [
    "chromosome_name = \"chr22\"  # Just an example, replace it with your actual key\n",
    "# Print the type of the object and a part of the object (if it's a string, for example)\n",
    "print(f\"Type: {type(chromosomes[chromosome_name])}, Beginning of Content: '{chromosomes[chromosome_name][:10]}'\")\n",
    "print(f\"Type: {len(chromosomes[chromosome_name])}, Beginning of Content: '{chromosomes[chromosome_name][1211231:1211252]}'\")"
   ],
   "metadata": {
    "collapsed": false
   }
  },
  {
   "cell_type": "markdown",
   "source": [
    "Use the de novo environment."
   ],
   "metadata": {
    "collapsed": false
   }
  },
  {
   "cell_type": "code",
   "execution_count": null,
   "outputs": [],
   "source": [
    "import numpy as np\n",
    "import tensorflow"
   ],
   "metadata": {
    "collapsed": false
   }
  },
  {
   "cell_type": "code",
   "execution_count": null,
   "outputs": [],
   "source": [
    "from keras import Model\n",
    "from keras import backend as K\n",
    "from keras.layers import Conv2D\n",
    "\n",
    "from keras.layers import Dense\n",
    "from keras.layers import GlobalAveragePooling2D\n",
    "from keras.layers import Input"
   ],
   "metadata": {
    "collapsed": false
   }
  },
  {
   "cell_type": "code",
   "execution_count": null,
   "outputs": [],
   "source": [
    "# from janggu import *"
   ],
   "metadata": {
    "collapsed": false
   }
  },
  {
   "cell_type": "code",
   "execution_count": null,
   "outputs": [],
   "source": [
    "from janggu.data import Bioseq\n",
    "from janggu.data import Cover\n",
    "from janggu.data import ReduceDim\n",
    "from janggu.layers import DnaConv2D\n",
    "from sklearn.metrics import roc_auc_score"
   ],
   "metadata": {
    "collapsed": false
   }
  },
  {
   "cell_type": "code",
   "execution_count": null,
   "outputs": [],
   "source": [
    "from pkg_resources import resource_filename"
   ],
   "metadata": {
    "collapsed": false
   }
  },
  {
   "cell_type": "code",
   "execution_count": null,
   "outputs": [],
   "source": [
    "from janggu.data import plotGenomeTrack\n",
    "\n",
    "from janggu.data import Cover\n",
    "from janggu.data import HeatTrack\n",
    "from janggu.data import LineTrack\n",
    "\n",
    "roi = resource_filename('janggu',\n",
    "                        'resources/sample.bed')\n",
    "\n",
    "bw_file = resource_filename('janggu',\n",
    "                            'resources/sample.bw')\n",
    "\n",
    "cover = Cover.create_from_bigwig('coverage1',\n",
    "                                 bigwigfiles=[bw_file] * 2,\n",
    "                                 conditions=['rep1', 'rep2'],\n",
    "                                 roi=roi,\n",
    "                                 binsize=200,\n",
    "                                 stepsize=200,\n",
    "                                 resolution=50)\n",
    "\n",
    "cover2 = Cover.create_from_bigwig('coverage2',\n",
    "                                  bigwigfiles=bw_file,\n",
    "                                  roi=roi,\n",
    "                                  binsize=200,\n",
    "                                  stepsize=200,\n",
    "                                  resolution=50)\n",
    "\n",
    "plotGenomeTrack([cover, cover2],\n",
    "                'chr1', 16000, 18000).savefig('coverage.png')\n",
    "\n",
    "plotGenomeTrack([HeatTrack(cover), LineTrack(cover2)],\n",
    "                'chr1', 16000, 18000).savefig('coverage2.png')"
   ],
   "metadata": {
    "collapsed": false
   }
  },
  {
   "cell_type": "code",
   "execution_count": null,
   "outputs": [],
   "source": [
    "import matplotlib.pyplot as plt\n",
    "# Open a bigWig file\n",
    "bw = pyBigWig.open(\"../data/aorta.bw\")\n",
    "\n",
    "# Define the region of interest\n",
    "chrom = \"chr1\"\n",
    "start = 2\n",
    "end = 101000\n",
    "\n",
    "# Retrieve values for the region\n",
    "values = bw.values(chrom, start, end)\n",
    "\n",
    "# Close the bigWig file\n",
    "bw.close()\n",
    "\n",
    "# Plot the values\n",
    "plt.plot(values)\n",
    "plt.xlabel(\"Position\")\n",
    "plt.ylabel(\"Value\")\n",
    "plt.title(f\"bigWig Data for {chrom}:{start}-{end}\")\n",
    "plt.show()"
   ],
   "metadata": {
    "collapsed": false
   }
  },
  {
   "cell_type": "markdown",
   "source": [
    "### Prepare Dataset"
   ],
   "metadata": {
    "collapsed": false
   }
  },
  {
   "cell_type": "code",
   "execution_count": null,
   "outputs": [],
   "source": [
    "from janggu.data import Bioseq\n",
    "from janggu.data import Cover\n",
    "from janggu.data import ReduceDim\n",
    "from janggu.data import SqueezeDim"
   ],
   "metadata": {
    "collapsed": false
   }
  },
  {
   "cell_type": "code",
   "execution_count": null,
   "outputs": [],
   "source": [
    "raw_label_aorta = resource_filename('janggu', '../data/aorta.bw')"
   ],
   "metadata": {
    "collapsed": false
   }
  },
  {
   "cell_type": "markdown",
   "source": [
    "We pseudo-label our train set and test set here, since it is impossible to wait for the BigWig file to split into\n",
    "train set and test set. However, I have coded a split function in jupyter notebook, that when someone has more time,\n",
    "could use my split function to split the BigWig data into 1_22 chromosomes and 23 chromosome. To change the whole machine\n",
    "learning process, simply change the path directory to load the actually train set and test set."
   ],
   "metadata": {
    "collapsed": false
   }
  },
  {
   "cell_type": "markdown",
   "source": [
    "For a time-efficient perspective, we will build machine learning models with pseud dataset split. Note that good results\n",
    "might be due to overfitting, instead of actually capturing the feature dimensions."
   ],
   "metadata": {
    "collapsed": false
   }
  },
  {
   "cell_type": "code",
   "execution_count": null,
   "outputs": [],
   "source": [
    "label_aorta = Cover.create_from_bigwig('aorta_bigwig',\n",
    "                                 bigwigfiles=raw_label_aorta,\n",
    "                                 roi=roi,\n",
    "                                 binsize=200,\n",
    "                                 resolution=None,\n",
    "                                 collapser='mean')"
   ],
   "metadata": {
    "collapsed": false
   }
  },
  {
   "cell_type": "code",
   "execution_count": null,
   "outputs": [],
   "source": [
    "test_aorta = Cover.create_from_bigwig('aorta_bigwig',\n",
    "                                 bigwigfiles=raw_label_aorta,\n",
    "                                 roi=roi,\n",
    "                                 binsize=200,\n",
    "                                 resolution=None,\n",
    "                                 collapser='mean')"
   ],
   "metadata": {
    "collapsed": false
   }
  },
  {
   "cell_type": "code",
   "execution_count": null,
   "outputs": [],
   "source": [
    "raw_label_artery = resource_filename('janggu', '../data/artery.bw')"
   ],
   "metadata": {
    "collapsed": false
   }
  },
  {
   "cell_type": "code",
   "execution_count": null,
   "outputs": [],
   "source": [
    "label_artery = Cover.create_from_bigwig('artery_bigwig',\n",
    "                                 bigwigfiles=raw_label_aorta,\n",
    "                                 roi=roi,\n",
    "                                 binsize=200,\n",
    "                                 resolution=None,\n",
    "                                 collapser='mean')"
   ],
   "metadata": {
    "collapsed": false
   }
  },
  {
   "cell_type": "code",
   "execution_count": null,
   "outputs": [],
   "source": [
    "test_artery = Cover.create_from_bigwig('artery_bigwig',\n",
    "                                 bigwigfiles=raw_label_aorta,\n",
    "                                 roi=roi,\n",
    "                                 binsize=200,\n",
    "                                 resolution=None,\n",
    "                                 collapser='mean')"
   ],
   "metadata": {
    "collapsed": false
   }
  },
  {
   "cell_type": "code",
   "execution_count": null,
   "outputs": [],
   "source": [
    "raw_label_pulmonic = resource_filename('janggu', '../data/pulmonic.bw')"
   ],
   "metadata": {
    "collapsed": false
   }
  },
  {
   "cell_type": "code",
   "execution_count": null,
   "outputs": [],
   "source": [
    "label_pulmonic = Cover.create_from_bigwig('pulmonic_bigwig',\n",
    "                                 bigwigfiles=raw_label_pulmonic,\n",
    "                                 roi=roi,\n",
    "                                 binsize=200,\n",
    "                                 resolution=None,\n",
    "                                 collapser='mean')"
   ],
   "metadata": {
    "collapsed": false
   }
  },
  {
   "cell_type": "code",
   "execution_count": null,
   "outputs": [],
   "source": [
    "test_pulmonic = Cover.create_from_bigwig('pulmonic_bigwig',\n",
    "                                 bigwigfiles=raw_label_pulmonic,\n",
    "                                 roi=roi,\n",
    "                                 binsize=200,\n",
    "                                 resolution=None,\n",
    "                                 collapser='mean')"
   ],
   "metadata": {
    "collapsed": false
   }
  },
  {
   "cell_type": "code",
   "execution_count": null,
   "outputs": [],
   "source": [
    "print(type(label_aorta))"
   ],
   "metadata": {
    "collapsed": false
   }
  },
  {
   "cell_type": "code",
   "execution_count": null,
   "outputs": [],
   "source": [
    "from janggu import Janggu"
   ],
   "metadata": {
    "collapsed": false
   }
  },
  {
   "cell_type": "code",
   "execution_count": null,
   "outputs": [],
   "source": [
    "fig = plotGenomeTrack([LineTrack(label_aorta)], 'chr1', 3, 290000)"
   ],
   "metadata": {
    "collapsed": false
   }
  },
  {
   "cell_type": "code",
   "execution_count": null,
   "outputs": [],
   "source": [
    "print(label_aorta.shape)"
   ],
   "metadata": {
    "collapsed": false
   }
  },
  {
   "cell_type": "markdown",
   "source": [
    "Prepare genome dataset"
   ],
   "metadata": {
    "collapsed": false
   }
  },
  {
   "cell_type": "code",
   "execution_count": null,
   "outputs": [],
   "source": [
    "genome_X = resource_filename('janggu', '../data/input.fa')"
   ],
   "metadata": {
    "collapsed": false
   }
  },
  {
   "cell_type": "code",
   "execution_count": null,
   "outputs": [],
   "source": [
    "# Training input and labels are purely defined genomic coordinates\n",
    "DNA = Bioseq.create_from_refgenome('dna', refgenome=genome_X,\n",
    "                                   roi=roi,\n",
    "                                   binsize=200,\n",
    "                                   cache=True)"
   ],
   "metadata": {
    "collapsed": false
   }
  },
  {
   "cell_type": "code",
   "execution_count": null,
   "outputs": [],
   "source": [
    "print(type(DNA))"
   ],
   "metadata": {
    "collapsed": false
   }
  },
  {
   "cell_type": "code",
   "execution_count": null,
   "outputs": [],
   "source": [],
   "metadata": {
    "collapsed": false
   }
  }
 ],
 "metadata": {
  "kernelspec": {
   "name": "genes",
   "language": "python",
   "display_name": "Python (genes)"
  },
  "language_info": {
   "codemirror_mode": {
    "name": "ipython",
    "version": 3
   },
   "file_extension": ".py",
   "mimetype": "text/x-python",
   "name": "python",
   "nbconvert_exporter": "python",
   "pygments_lexer": "ipython3",
   "version": "3.9.10"
  }
 },
 "nbformat": 4,
 "nbformat_minor": 5
}
