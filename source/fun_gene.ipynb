{
 "cells": [
  {
   "cell_type": "code",
   "execution_count": 2,
   "outputs": [
    {
     "name": "stdout",
     "output_type": "stream",
     "text": [
      "/Users/billdeng/anaconda3/envs/de_novo/bin/python\n"
     ]
    }
   ],
   "source": [
    "import sys\n",
    "import pyBigWig\n",
    "print(sys.executable)"
   ],
   "metadata": {
    "collapsed": false
   }
  },
  {
   "cell_type": "markdown",
   "source": [],
   "metadata": {
    "collapsed": false
   }
  },
  {
   "cell_type": "code",
   "execution_count": 3,
   "outputs": [],
   "source": [
    "from Bio import SeqIO\n",
    "import os"
   ],
   "metadata": {
    "collapsed": false
   }
  },
  {
   "cell_type": "markdown",
   "source": [
    "First, read and visualize input and output data."
   ],
   "metadata": {
    "collapsed": false
   }
  },
  {
   "cell_type": "code",
   "execution_count": 4,
   "outputs": [
    {
     "name": "stdout",
     "output_type": "stream",
     "text": [
      "The current working directory is: /Users/billdeng/PycharmProjects/genes/source\n"
     ]
    }
   ],
   "source": [
    "# Get the current working directory\n",
    "current_dir = os.getcwd()\n",
    "\n",
    "# Print the current working directory\n",
    "print(f\"The current working directory is: {current_dir}\")"
   ],
   "metadata": {
    "collapsed": false
   }
  },
  {
   "cell_type": "code",
   "execution_count": 5,
   "outputs": [],
   "source": [
    "# Path to FASTA file\n",
    "fasta_file = '../data/input.fa'\n",
    "\n",
    "# Initialize an empty dictionary to store sequences\n",
    "chromosomes = {}\n",
    "\n",
    "# Using SeqIO.parse to read the FASTA file\n",
    "for record in SeqIO.parse(fasta_file, \"fasta\"):\n",
    "    chromosome_name = record.id\n",
    "    sequence = str(record.seq)\n",
    "    chromosomes[chromosome_name] = sequence\n",
    "\n",
    "# Now, chromosomes dictionary contains all the sequences\n",
    "# For example, to access the sequence for chromosome 1, you can use:\n",
    "# chromosome_1_sequence = chromosomes['1']\n",
    "\n",
    "# If you want to print out the names of all chromosomes read, you can do:\n",
    "# print(\"Chromosomes read from the FASTA file:\")\n",
    "# for chromosome in chromosomes.keys():\n",
    "#     print(chromosome)"
   ],
   "metadata": {
    "collapsed": false
   }
  },
  {
   "cell_type": "code",
   "execution_count": 6,
   "outputs": [
    {
     "name": "stdout",
     "output_type": "stream",
     "text": [
      "chr1\n",
      "chr2\n",
      "chr3\n",
      "chr4\n",
      "chr5\n",
      "chr6\n",
      "chr7\n",
      "chr8\n",
      "chr9\n",
      "chr10\n",
      "chr11\n",
      "chr12\n",
      "chr13\n",
      "chr14\n",
      "chr15\n",
      "chr16\n",
      "chr17\n",
      "chr18\n",
      "chr19\n",
      "chr20\n",
      "chr21\n",
      "chr22\n",
      "chrX\n"
     ]
    }
   ],
   "source": [
    "for chromosome in chromosomes.keys():\n",
    "    print(chromosome)\n",
    "    # print(type(chromosome))  # This will print the type of the chromosome variable"
   ],
   "metadata": {
    "collapsed": false
   }
  },
  {
   "cell_type": "code",
   "execution_count": 7,
   "id": "fb207357-326c-4ba2-b757-099fa01e184e",
   "metadata": {},
   "outputs": [
    {
     "name": "stdout",
     "output_type": "stream",
     "text": [
      "<class 'str'>\n"
     ]
    }
   ],
   "source": [
    "print(type(chromosomes[chromosome_name]))"
   ]
  },
  {
   "cell_type": "code",
   "execution_count": 8,
   "outputs": [
    {
     "name": "stdout",
     "output_type": "stream",
     "text": [
      "Type: <class 'str'>, Beginning of Content: 'NNNNNNNNNN'\n",
      "Type: 51304566, Beginning of Content: 'NNNNNNNNNNNNNNNNNNNNN'\n"
     ]
    }
   ],
   "source": [
    "chromosome_name = \"chr22\"  # Just an example, replace it with your actual key\n",
    "# Print the type of the object and a part of the object (if it's a string, for example)\n",
    "print(f\"Type: {type(chromosomes[chromosome_name])}, Beginning of Content: '{chromosomes[chromosome_name][:10]}'\")\n",
    "print(f\"Type: {len(chromosomes[chromosome_name])}, Beginning of Content: '{chromosomes[chromosome_name][1211231:1211252]}'\")"
   ],
   "metadata": {
    "collapsed": false
   }
  },
  {
   "cell_type": "markdown",
   "source": [
    "Use the de novo environment."
   ],
   "metadata": {
    "collapsed": false
   }
  },
  {
   "cell_type": "code",
   "execution_count": 9,
   "outputs": [],
   "source": [
    "import numpy as np\n",
    "import tensorflow"
   ],
   "metadata": {
    "collapsed": false
   }
  },
  {
   "cell_type": "code",
   "execution_count": 10,
   "outputs": [],
   "source": [
    "from keras import Model\n",
    "from keras import backend as K\n",
    "from keras.layers import Conv2D\n",
    "\n",
    "from keras.layers import Dense\n",
    "from keras.layers import GlobalAveragePooling2D\n",
    "from keras.layers import Input"
   ],
   "metadata": {
    "collapsed": false
   }
  },
  {
   "cell_type": "code",
   "execution_count": 11,
   "outputs": [],
   "source": [
    "# from janggu import *"
   ],
   "metadata": {
    "collapsed": false
   }
  },
  {
   "cell_type": "code",
   "execution_count": 12,
   "outputs": [],
   "source": [
    "from janggu.data import Bioseq\n",
    "from janggu.data import Cover\n",
    "from janggu.data import ReduceDim\n",
    "from janggu.layers import DnaConv2D\n",
    "from sklearn.metrics import roc_auc_score"
   ],
   "metadata": {
    "collapsed": false
   }
  },
  {
   "cell_type": "code",
   "execution_count": 13,
   "outputs": [],
   "source": [
    "from pkg_resources import resource_filename"
   ],
   "metadata": {
    "collapsed": false
   }
  },
  {
   "cell_type": "code",
   "execution_count": 14,
   "outputs": [
    {
     "name": "stderr",
     "output_type": "stream",
     "text": [
      "/Users/billdeng/PycharmProjects/genes/janggu/data/visualization.py:58: FutureWarning: Convert the Dataset object to proper Track objects. In the future, only Track objects will be supported.\n",
      "  warnings.warn('Convert the Dataset object to proper Track objects.'\n",
      "/Users/billdeng/PycharmProjects/genes/janggu/data/visualization.py:82: FutureWarning: Convert the Dataset object to proper Track objects. In the future, only Track objects will be supported.\n",
      "  warnings.warn('Convert the Dataset object to proper Track objects.'\n",
      "/Users/billdeng/PycharmProjects/genes/janggu/data/visualization.py:324: UserWarning: FixedFormatter should only be used together with FixedLocator\n",
      "  ax.set_yticklabels(ticks)\n"
     ]
    },
    {
     "data": {
      "text/plain": "<Figure size 1000x500 with 6 Axes>",
      "image/png": "[encoded data removed]"
     },
     "metadata": {},
     "output_type": "display_data"
    },
    {
     "data": {
      "text/plain": "<Figure size 1000x500 with 5 Axes>",
      "image/png": "[encoded data removed]"
     },
     "metadata": {},
     "output_type": "display_data"
    }
   ],
   "source": [
    "from janggu.data import plotGenomeTrack\n",
    "\n",
    "from janggu.data import Cover\n",
    "from janggu.data import HeatTrack\n",
    "from janggu.data import LineTrack\n",
    "\n",
    "roi = resource_filename('janggu',\n",
    "                        'resources/sample.bed')\n",
    "\n",
    "bw_file = resource_filename('janggu',\n",
    "                            'resources/sample.bw')\n",
    "\n",
    "cover = Cover.create_from_bigwig('coverage1',\n",
    "                                 bigwigfiles=[bw_file] * 2,\n",
    "                                 conditions=['rep1', 'rep2'],\n",
    "                                 roi=roi,\n",
    "                                 binsize=200,\n",
    "                                 stepsize=200,\n",
    "                                 resolution=50)\n",
    "\n",
    "cover2 = Cover.create_from_bigwig('coverage2',\n",
    "                                  bigwigfiles=bw_file,\n",
    "                                  roi=roi,\n",
    "                                  binsize=200,\n",
    "                                  stepsize=200,\n",
    "                                  resolution=50)\n",
    "\n",
    "plotGenomeTrack([cover, cover2],\n",
    "                'chr1', 16000, 18000).savefig('coverage.png')\n",
    "\n",
    "plotGenomeTrack([HeatTrack(cover), LineTrack(cover2)],\n",
    "                'chr1', 16000, 18000).savefig('coverage2.png')"
   ],
   "metadata": {
    "collapsed": false
   }
  },
  {
   "cell_type": "code",
   "execution_count": 15,
   "outputs": [
    {
     "data": {
      "text/plain": "<Figure size 640x480 with 1 Axes>",
      "image/png": "[encoded data removed]"
     },
     "metadata": {},
     "output_type": "display_data"
    }
   ],
   "source": [
    "import matplotlib.pyplot as plt\n",
    "# Open a bigWig file\n",
    "bw = pyBigWig.open(\"../data/aorta.bw\")\n",
    "\n",
    "# Define the region of interest\n",
    "chrom = \"chr1\"\n",
    "start = 2\n",
    "end = 101000\n",
    "\n",
    "# Retrieve values for the region\n",
    "values = bw.values(chrom, start, end)\n",
    "\n",
    "# Close the bigWig file\n",
    "bw.close()\n",
    "\n",
    "# Plot the values\n",
    "plt.plot(values)\n",
    "plt.xlabel(\"Position\")\n",
    "plt.ylabel(\"Value\")\n",
    "plt.title(f\"bigWig Data for {chrom}:{start}-{end}\")\n",
    "plt.show()"
   ],
   "metadata": {
    "collapsed": false
   }
  },
  {
   "cell_type": "markdown",
   "source": [
    "### Prepare Dataset"
   ],
   "metadata": {
    "collapsed": false
   }
  },
  {
   "cell_type": "code",
   "execution_count": 16,
   "outputs": [],
   "source": [
    "from janggu.data import Bioseq\n",
    "from janggu.data import Cover\n",
    "from janggu.data import ReduceDim\n",
    "from janggu.data import SqueezeDim"
   ],
   "metadata": {
    "collapsed": false
   }
  },
  {
   "cell_type": "code",
   "execution_count": 17,
   "outputs": [
    {
     "name": "stderr",
     "output_type": "stream",
     "text": [
      "/var/folders/mw/2gycpkq57p97cpwvmwvm69m00000gn/T/ipykernel_39998/1755127643.py:1: DeprecationWarning: Use of .. or absolute path in a resource path is not allowed and will raise exceptions in a future release.\n",
      "  raw_label_aorta = resource_filename('janggu', '../data/aorta.bw')\n"
     ]
    }
   ],
   "source": [
    "raw_label_aorta = resource_filename('janggu', '../data/aorta.bw')"
   ],
   "metadata": {
    "collapsed": false
   }
  },
  {
   "cell_type": "markdown",
   "source": [
    "We pseudo-label our train set and test set here, since it is impossible to wait for the BigWig file to split into\n",
    "train set and test set. However, I have coded a split function in jupyter notebook, that when someone has more time,\n",
    "could use my split function to split the BigWig data into 1_22 chromosomes and 23 chromosome. To change the whole machine\n",
    "learning process, simply change the path directory to load the actually train set and test set."
   ],
   "metadata": {
    "collapsed": false
   }
  },
  {
   "cell_type": "markdown",
   "source": [
    "For a time-efficient perspective, we will build machine learning models with pseud dataset split. Note that good results\n",
    "might be due to overfitting, instead of actually capturing the feature dimensions.\n",
    "\n",
    "But if you actually think about the number of parameters, it is actually not that. It is not going to be overfitting."
   ],
   "metadata": {
    "collapsed": false
   }
  },
  {
   "cell_type": "code",
   "execution_count": 18,
   "outputs": [],
   "source": [
    "label_aorta = ReduceDim(Cover.create_from_bigwig('aorta_bigwig',\n",
    "                                 bigwigfiles=raw_label_aorta,\n",
    "                                 roi=roi,\n",
    "                                 binsize=200,\n",
    "                                 resolution=None,\n",
    "                                 collapser='mean'))"
   ],
   "metadata": {
    "collapsed": false
   }
  },
  {
   "cell_type": "code",
   "execution_count": 19,
   "outputs": [],
   "source": [
    "test_aorta = ReduceDim(Cover.create_from_bigwig('aorta_bigwig',\n",
    "                                 bigwigfiles=raw_label_aorta,\n",
    "                                 roi=roi,\n",
    "                                 binsize=200,\n",
    "                                 resolution=None,\n",
    "                                 collapser='mean'))"
   ],
   "metadata": {
    "collapsed": false
   }
  },
  {
   "cell_type": "code",
   "execution_count": 20,
   "outputs": [
    {
     "name": "stderr",
     "output_type": "stream",
     "text": [
      "/var/folders/mw/2gycpkq57p97cpwvmwvm69m00000gn/T/ipykernel_39998/466259674.py:1: DeprecationWarning: Use of .. or absolute path in a resource path is not allowed and will raise exceptions in a future release.\n",
      "  raw_label_artery = resource_filename('janggu', '../data/artery.bw')\n"
     ]
    }
   ],
   "source": [
    "raw_label_artery = resource_filename('janggu', '../data/artery.bw')"
   ],
   "metadata": {
    "collapsed": false
   }
  },
  {
   "cell_type": "code",
   "execution_count": 21,
   "outputs": [],
   "source": [
    "label_artery = ReduceDim(Cover.create_from_bigwig('artery_bigwig',\n",
    "                                 bigwigfiles=raw_label_aorta,\n",
    "                                 roi=roi,\n",
    "                                 binsize=200,\n",
    "                                 resolution=None,\n",
    "                                 collapser='mean'))"
   ],
   "metadata": {
    "collapsed": false
   }
  },
  {
   "cell_type": "code",
   "execution_count": 22,
   "outputs": [],
   "source": [
    "test_artery = ReduceDim(Cover.create_from_bigwig('artery_bigwig',\n",
    "                                 bigwigfiles=raw_label_aorta,\n",
    "                                 roi=roi,\n",
    "                                 binsize=200,\n",
    "                                 resolution=None,\n",
    "                                 collapser='mean'))"
   ],
   "metadata": {
    "collapsed": false
   }
  },
  {
   "cell_type": "code",
   "execution_count": 23,
   "outputs": [
    {
     "name": "stderr",
     "output_type": "stream",
     "text": [
      "/var/folders/mw/2gycpkq57p97cpwvmwvm69m00000gn/T/ipykernel_39998/1131512290.py:1: DeprecationWarning: Use of .. or absolute path in a resource path is not allowed and will raise exceptions in a future release.\n",
      "  raw_label_pulmonic = resource_filename('janggu', '../data/pulmonic.bw')\n"
     ]
    }
   ],
   "source": [
    "raw_label_pulmonic = resource_filename('janggu', '../data/pulmonic.bw')"
   ],
   "metadata": {
    "collapsed": false
   }
  },
  {
   "cell_type": "code",
   "execution_count": 24,
   "outputs": [],
   "source": [
    "label_pulmonic = ReduceDim(Cover.create_from_bigwig('pulmonic_bigwig',\n",
    "                                 bigwigfiles=raw_label_pulmonic,\n",
    "                                 roi=roi,\n",
    "                                 binsize=200,\n",
    "                                 resolution=None,\n",
    "                                 collapser='mean'))"
   ],
   "metadata": {
    "collapsed": false
   }
  },
  {
   "cell_type": "code",
   "execution_count": 25,
   "outputs": [],
   "source": [
    "test_pulmonic = ReduceDim(Cover.create_from_bigwig('pulmonic_bigwig',\n",
    "                                 bigwigfiles=raw_label_pulmonic,\n",
    "                                 roi=roi,\n",
    "                                 binsize=200,\n",
    "                                 resolution=200,\n",
    "                                 collapser='mean'))"
   ],
   "metadata": {
    "collapsed": false
   }
  },
  {
   "cell_type": "code",
   "execution_count": 26,
   "outputs": [
    {
     "name": "stdout",
     "output_type": "stream",
     "text": [
      "(100, 1)\n"
     ]
    }
   ],
   "source": [
    "print(test_pulmonic.shape)"
   ],
   "metadata": {
    "collapsed": false
   }
  },
  {
   "cell_type": "code",
   "execution_count": 27,
   "outputs": [
    {
     "name": "stdout",
     "output_type": "stream",
     "text": [
      "<class 'janggu.data.nparr.ReduceDim'>\n"
     ]
    }
   ],
   "source": [
    "print(type(label_aorta))"
   ],
   "metadata": {
    "collapsed": false
   }
  },
  {
   "cell_type": "code",
   "execution_count": 28,
   "outputs": [],
   "source": [
    "from janggu import Janggu"
   ],
   "metadata": {
    "collapsed": false
   }
  },
  {
   "cell_type": "code",
   "execution_count": 29,
   "outputs": [],
   "source": [
    "# fig = plotGenomeTrack([LineTrack(label_aorta)], 'chr1', 2, 290000)"
   ],
   "metadata": {
    "collapsed": false
   }
  },
  {
   "cell_type": "code",
   "execution_count": 30,
   "outputs": [
    {
     "name": "stdout",
     "output_type": "stream",
     "text": [
      "(100, 1)\n"
     ]
    }
   ],
   "source": [
    "print(label_aorta.shape)"
   ],
   "metadata": {
    "collapsed": false
   }
  },
  {
   "cell_type": "markdown",
   "source": [
    "Prepare genome dataset"
   ],
   "metadata": {
    "collapsed": false
   }
  },
  {
   "cell_type": "code",
   "execution_count": 31,
   "outputs": [
    {
     "name": "stderr",
     "output_type": "stream",
     "text": [
      "/var/folders/mw/2gycpkq57p97cpwvmwvm69m00000gn/T/ipykernel_39998/3197743970.py:1: DeprecationWarning: Use of .. or absolute path in a resource path is not allowed and will raise exceptions in a future release.\n",
      "  genome_X = resource_filename('janggu', '../data/input.fa')\n"
     ]
    }
   ],
   "source": [
    "genome_X = resource_filename('janggu', '../data/input.fa')"
   ],
   "metadata": {
    "collapsed": false
   }
  },
  {
   "cell_type": "code",
   "execution_count": 32,
   "outputs": [
    {
     "name": "stdout",
     "output_type": "stream",
     "text": [
      "/Users/billdeng/PycharmProjects/genes/source\n"
     ]
    }
   ],
   "source": [
    "JANGGU_OUTPUT = os.getcwd()\n",
    "print(JANGGU_OUTPUT)"
   ],
   "metadata": {
    "collapsed": false
   }
  },
  {
   "cell_type": "code",
   "execution_count": 33,
   "outputs": [
    {
     "name": "stdout",
     "output_type": "stream",
     "text": [
      "environment variable JANGGU_OUTPUT not set. Will use JANGGU_OUTPUT=/Users/billdeng/janggu_results\n"
     ]
    }
   ],
   "source": [
    "# Training input and labels are purely defined genomic coordinates\n",
    "DNA = Bioseq.create_from_refgenome('dna', refgenome=genome_X,\n",
    "                                   roi=roi,\n",
    "                                   binsize=200,\n",
    "                                   cache=True)"
   ],
   "metadata": {
    "collapsed": false
   }
  },
  {
   "cell_type": "code",
   "execution_count": 34,
   "outputs": [
    {
     "name": "stdout",
     "output_type": "stream",
     "text": [
      "<class 'janggu.data.dna.Bioseq'>\n"
     ]
    }
   ],
   "source": [
    "print(type(DNA))"
   ],
   "metadata": {
    "collapsed": false
   }
  },
  {
   "cell_type": "code",
   "execution_count": 35,
   "outputs": [],
   "source": [
    "from keras.layers import Input\n",
    "from keras.layers import Dense\n",
    "\n",
    "from janggu import Janggu"
   ],
   "metadata": {
    "collapsed": false
   }
  },
  {
   "cell_type": "code",
   "execution_count": 36,
   "outputs": [
    {
     "name": "stdout",
     "output_type": "stream",
     "text": [
      "(100, 200, 1, 4)\n"
     ]
    }
   ],
   "source": [
    "print(DNA.shape)"
   ],
   "metadata": {
    "collapsed": false
   }
  },
  {
   "cell_type": "code",
   "execution_count": 37,
   "outputs": [],
   "source": [
    "from keras.layers import Input, Dense, LSTM, Flatten"
   ],
   "metadata": {
    "collapsed": false
   }
  },
  {
   "cell_type": "code",
   "execution_count": 38,
   "outputs": [],
   "source": [
    "in_ = Input(shape=(10,), name='dna')\n",
    "layer = Dense(3)(in_)\n",
    "output = Dense(1, activation='sigmoid',\n",
    "               name='out')(layer)"
   ],
   "metadata": {
    "collapsed": false
   }
  },
  {
   "cell_type": "code",
   "execution_count": 39,
   "outputs": [
    {
     "name": "stdout",
     "output_type": "stream",
     "text": [
      "Generated model-id: '55fe7e2aa742bb3f28f7dd6f5fc4f9bd'\n",
      "Model: \"janggu\"\n",
      "_________________________________________________________________\n",
      " Layer (type)                Output Shape              Param #   \n",
      "=================================================================\n",
      " dna (InputLayer)            [(None, 10)]              0         \n",
      "                                                                 \n",
      " dense (Dense)               (None, 3)                 33        \n",
      "                                                                 \n",
      " out (Dense)                 (None, 1)                 4         \n",
      "                                                                 \n",
      "=================================================================\n",
      "Total params: 37 (148.00 Byte)\n",
      "Trainable params: 37 (148.00 Byte)\n",
      "Non-trainable params: 0 (0.00 Byte)\n",
      "_________________________________________________________________\n"
     ]
    }
   ],
   "source": [
    "# Instantiate model name.\n",
    "model = Janggu(inputs=in_, outputs=output)\n",
    "model.summary()"
   ],
   "metadata": {
    "collapsed": false
   }
  },
  {
   "cell_type": "code",
   "execution_count": 39,
   "outputs": [],
   "source": [],
   "metadata": {
    "collapsed": false
   }
  },
  {
   "cell_type": "code",
   "execution_count": 39,
   "outputs": [],
   "source": [
    "#model.compile(optimizer='adadelta', loss='binary_crossentropy',\n",
    "              # metrics=['acc'])\n",
    "#model.fit(DNA,label_pulmonic,epochs=100)"
   ],
   "metadata": {
    "collapsed": false
   }
  },
  {
   "cell_type": "markdown",
   "source": [
    "# DNACon2D Model"
   ],
   "metadata": {
    "collapsed": false
   }
  },
  {
   "cell_type": "code",
   "execution_count": 50,
   "outputs": [],
   "source": [
    "from keras.layers import Conv2D\n",
    "from keras.layers import GlobalAveragePooling2D\n",
    "from janggu import inputlayer, outputdense\n",
    "from janggu import outputconv\n",
    "from janggu import DnaConv2D\n",
    "from janggu.data import ReduceDim\n",
    "\n",
    "@inputlayer\n",
    "@outputdense('sigmoid')\n",
    "def DnaCon2D_model(inputs, inp, oup, params):\n",
    "    with inputs.use('dna') as layer:\n",
    "        # The DnaConv2D wrapper can be used with Conv2D\n",
    "        # to scan both DNA strands with the weight matrices.\n",
    "        layer = DnaConv2D(Conv2D(params[0], (params[1], 1),\n",
    "                                 activation=params[2]))(layer)\n",
    "    output = GlobalAveragePooling2D(name='motif')(layer)\n",
    "    return inputs, output"
   ],
   "metadata": {
    "collapsed": false
   }
  },
  {
   "cell_type": "markdown",
   "source": [
    "## Pulmonic Label Training"
   ],
   "metadata": {
    "collapsed": false
   }
  },
  {
   "cell_type": "code",
   "execution_count": 51,
   "outputs": [
    {
     "name": "stdout",
     "output_type": "stream",
     "text": [
      "Generated model-id: 'c58ad9689d948403da5c9fac41668737'\n",
      "Model: \"janggu\"\n",
      "_________________________________________________________________\n",
      " Layer (type)                Output Shape              Param #   \n",
      "=================================================================\n",
      " dna (InputLayer)            [(None, 200, 1, 4)]       0         \n",
      "                                                                 \n",
      " dna_conv2d_4 (DnaConv2D)    (None, 186, 1, 30)        1830      \n",
      "                                                                 \n",
      " motif (GlobalAveragePoolin  (None, 30)                0         \n",
      " g2D)                                                            \n",
      "                                                                 \n",
      " pulmonic_bigwig (Dense)     (None, 1)                 31        \n",
      "                                                                 \n",
      "=================================================================\n",
      "Total params: 1861 (7.27 KB)\n",
      "Trainable params: 1861 (7.27 KB)\n",
      "Non-trainable params: 0 (0.00 Byte)\n",
      "_________________________________________________________________\n"
     ]
    }
   ],
   "source": [
    "pulmonic_model = Janggu.create(template=DnaCon2D_model,\n",
    "                      modelparams=(30, 15, 'relu'),\n",
    "                      inputs=DNA, outputs=label_pulmonic)\n",
    "pulmonic_model.summary()"
   ],
   "metadata": {
    "collapsed": false
   }
  },
  {
   "cell_type": "code",
   "execution_count": 52,
   "outputs": [],
   "source": [
    "pulmonic_model.compile(optimizer='adadelta', loss='binary_crossentropy',\n",
    "              metrics=['acc'])"
   ],
   "metadata": {
    "collapsed": false
   }
  },
  {
   "cell_type": "code",
   "execution_count": 53,
   "outputs": [
    {
     "name": "stdout",
     "output_type": "stream",
     "text": [
      "Epoch 1/100\n"
     ]
    },
    {
     "name": "stderr",
     "output_type": "stream",
     "text": [
      "/Users/billdeng/PycharmProjects/genes/janggu/model.py:575: UserWarning: `Model.fit_generator` is deprecated and will be removed in a future version. Please use `Model.fit`, which supports generators.\n",
      "  history = self.kerasmodel.fit_generator(\n"
     ]
    },
    {
     "name": "stdout",
     "output_type": "stream",
     "text": [
      "4/4 [==============================] - 1s 14ms/step - loss: 0.6063 - acc: 0.3000\n",
      "Epoch 2/100\n",
      "4/4 [==============================] - 0s 13ms/step - loss: 0.6062 - acc: 0.3000\n",
      "Epoch 3/100\n",
      "4/4 [==============================] - 0s 9ms/step - loss: 0.6061 - acc: 0.3000\n",
      "Epoch 4/100\n",
      "4/4 [==============================] - 0s 9ms/step - loss: 0.6060 - acc: 0.3000\n",
      "Epoch 5/100\n",
      "4/4 [==============================] - 0s 9ms/step - loss: 0.6059 - acc: 0.3000\n",
      "Epoch 6/100\n",
      "4/4 [==============================] - 0s 13ms/step - loss: 0.6057 - acc: 0.3000\n",
      "Epoch 7/100\n",
      "4/4 [==============================] - 0s 8ms/step - loss: 0.6056 - acc: 0.3000\n",
      "Epoch 8/100\n",
      "4/4 [==============================] - 0s 11ms/step - loss: 0.6055 - acc: 0.3000\n",
      "Epoch 9/100\n",
      "4/4 [==============================] - 0s 9ms/step - loss: 0.6053 - acc: 0.3000\n",
      "Epoch 10/100\n",
      "4/4 [==============================] - 0s 13ms/step - loss: 0.6052 - acc: 0.3000\n",
      "Epoch 11/100\n",
      "4/4 [==============================] - 0s 10ms/step - loss: 0.6051 - acc: 0.3000\n",
      "Epoch 12/100\n",
      "4/4 [==============================] - 0s 13ms/step - loss: 0.6049 - acc: 0.3000\n",
      "Epoch 13/100\n",
      "4/4 [==============================] - 0s 10ms/step - loss: 0.6048 - acc: 0.3000\n",
      "Epoch 14/100\n",
      "4/4 [==============================] - 0s 12ms/step - loss: 0.6047 - acc: 0.3000\n",
      "Epoch 15/100\n",
      "4/4 [==============================] - 0s 10ms/step - loss: 0.6045 - acc: 0.3000\n",
      "Epoch 16/100\n",
      "4/4 [==============================] - 0s 12ms/step - loss: 0.6044 - acc: 0.3000\n",
      "Epoch 17/100\n",
      "4/4 [==============================] - 0s 12ms/step - loss: 0.6043 - acc: 0.3000\n",
      "Epoch 18/100\n",
      "4/4 [==============================] - 0s 10ms/step - loss: 0.6042 - acc: 0.3000\n",
      "Epoch 19/100\n",
      "4/4 [==============================] - 0s 10ms/step - loss: 0.6040 - acc: 0.3000\n",
      "Epoch 20/100\n",
      "4/4 [==============================] - 0s 11ms/step - loss: 0.6039 - acc: 0.3000\n",
      "Epoch 21/100\n",
      "4/4 [==============================] - 0s 10ms/step - loss: 0.6037 - acc: 0.3000\n",
      "Epoch 22/100\n",
      "4/4 [==============================] - 0s 11ms/step - loss: 0.6036 - acc: 0.3000\n",
      "Epoch 23/100\n",
      "4/4 [==============================] - 0s 10ms/step - loss: 0.6035 - acc: 0.3000\n",
      "Epoch 24/100\n",
      "4/4 [==============================] - 0s 9ms/step - loss: 0.6033 - acc: 0.3000\n",
      "Epoch 25/100\n",
      "4/4 [==============================] - 0s 10ms/step - loss: 0.6032 - acc: 0.3000\n",
      "Epoch 26/100\n",
      "4/4 [==============================] - 0s 9ms/step - loss: 0.6031 - acc: 0.3000\n",
      "Epoch 27/100\n",
      "4/4 [==============================] - 0s 10ms/step - loss: 0.6029 - acc: 0.3000\n",
      "Epoch 28/100\n",
      "4/4 [==============================] - 0s 10ms/step - loss: 0.6028 - acc: 0.3000\n",
      "Epoch 29/100\n",
      "4/4 [==============================] - 0s 10ms/step - loss: 0.6026 - acc: 0.3000\n",
      "Epoch 30/100\n",
      "4/4 [==============================] - 0s 10ms/step - loss: 0.6025 - acc: 0.3000\n",
      "Epoch 31/100\n",
      "4/4 [==============================] - 0s 10ms/step - loss: 0.6024 - acc: 0.3000\n",
      "Epoch 32/100\n",
      "4/4 [==============================] - 0s 12ms/step - loss: 0.6022 - acc: 0.3000\n",
      "Epoch 33/100\n",
      "4/4 [==============================] - 0s 10ms/step - loss: 0.6021 - acc: 0.3000\n",
      "Epoch 34/100\n",
      "4/4 [==============================] - 0s 9ms/step - loss: 0.6019 - acc: 0.3000\n",
      "Epoch 35/100\n",
      "4/4 [==============================] - 0s 9ms/step - loss: 0.6018 - acc: 0.3000\n",
      "Epoch 36/100\n",
      "4/4 [==============================] - 0s 9ms/step - loss: 0.6016 - acc: 0.3000\n",
      "Epoch 37/100\n",
      "4/4 [==============================] - 0s 10ms/step - loss: 0.6015 - acc: 0.3000\n",
      "Epoch 38/100\n",
      "4/4 [==============================] - 0s 13ms/step - loss: 0.6014 - acc: 0.3000\n",
      "Epoch 39/100\n",
      "4/4 [==============================] - 0s 9ms/step - loss: 0.6012 - acc: 0.3000\n",
      "Epoch 40/100\n",
      "4/4 [==============================] - 0s 10ms/step - loss: 0.6011 - acc: 0.3000\n",
      "Epoch 41/100\n",
      "4/4 [==============================] - 0s 14ms/step - loss: 0.6009 - acc: 0.3000\n",
      "Epoch 42/100\n",
      "4/4 [==============================] - 0s 10ms/step - loss: 0.6008 - acc: 0.3000\n",
      "Epoch 43/100\n",
      "4/4 [==============================] - 0s 11ms/step - loss: 0.6007 - acc: 0.3000\n",
      "Epoch 44/100\n",
      "4/4 [==============================] - 0s 9ms/step - loss: 0.6005 - acc: 0.3000\n",
      "Epoch 45/100\n",
      "4/4 [==============================] - 0s 12ms/step - loss: 0.6003 - acc: 0.3000\n",
      "Epoch 46/100\n",
      "4/4 [==============================] - 0s 11ms/step - loss: 0.6002 - acc: 0.3000\n",
      "Epoch 47/100\n",
      "4/4 [==============================] - 0s 11ms/step - loss: 0.6001 - acc: 0.3000\n",
      "Epoch 48/100\n",
      "4/4 [==============================] - 0s 10ms/step - loss: 0.5999 - acc: 0.3000\n",
      "Epoch 49/100\n",
      "4/4 [==============================] - 0s 13ms/step - loss: 0.5997 - acc: 0.3000\n",
      "Epoch 50/100\n",
      "4/4 [==============================] - 0s 10ms/step - loss: 0.5996 - acc: 0.3000\n",
      "Epoch 51/100\n",
      "4/4 [==============================] - 0s 9ms/step - loss: 0.5995 - acc: 0.3000\n",
      "Epoch 52/100\n",
      "4/4 [==============================] - 0s 10ms/step - loss: 0.5993 - acc: 0.3000\n",
      "Epoch 53/100\n",
      "4/4 [==============================] - 0s 9ms/step - loss: 0.5992 - acc: 0.3000\n",
      "Epoch 54/100\n",
      "4/4 [==============================] - 0s 12ms/step - loss: 0.5990 - acc: 0.3000\n",
      "Epoch 55/100\n",
      "4/4 [==============================] - 0s 8ms/step - loss: 0.5989 - acc: 0.3000\n",
      "Epoch 56/100\n",
      "4/4 [==============================] - 0s 13ms/step - loss: 0.5987 - acc: 0.3000\n",
      "Epoch 57/100\n",
      "4/4 [==============================] - 0s 13ms/step - loss: 0.5985 - acc: 0.3000\n",
      "Epoch 58/100\n",
      "4/4 [==============================] - 0s 10ms/step - loss: 0.5984 - acc: 0.3000\n",
      "Epoch 59/100\n",
      "4/4 [==============================] - 0s 9ms/step - loss: 0.5983 - acc: 0.3000\n",
      "Epoch 60/100\n",
      "4/4 [==============================] - 0s 10ms/step - loss: 0.5981 - acc: 0.3000\n",
      "Epoch 61/100\n",
      "4/4 [==============================] - 0s 9ms/step - loss: 0.5979 - acc: 0.3000\n",
      "Epoch 62/100\n",
      "4/4 [==============================] - 0s 9ms/step - loss: 0.5978 - acc: 0.3000\n",
      "Epoch 63/100\n",
      "4/4 [==============================] - 0s 10ms/step - loss: 0.5976 - acc: 0.3000\n",
      "Epoch 64/100\n",
      "4/4 [==============================] - 0s 12ms/step - loss: 0.5975 - acc: 0.3000\n",
      "Epoch 65/100\n",
      "4/4 [==============================] - 0s 9ms/step - loss: 0.5973 - acc: 0.3000\n",
      "Epoch 66/100\n",
      "4/4 [==============================] - 0s 11ms/step - loss: 0.5972 - acc: 0.3000\n",
      "Epoch 67/100\n",
      "4/4 [==============================] - 0s 13ms/step - loss: 0.5970 - acc: 0.3000\n",
      "Epoch 68/100\n",
      "4/4 [==============================] - 0s 10ms/step - loss: 0.5969 - acc: 0.3000\n",
      "Epoch 69/100\n",
      "4/4 [==============================] - 0s 11ms/step - loss: 0.5967 - acc: 0.3000\n",
      "Epoch 70/100\n",
      "4/4 [==============================] - 0s 10ms/step - loss: 0.5966 - acc: 0.3000\n",
      "Epoch 71/100\n",
      "4/4 [==============================] - 0s 10ms/step - loss: 0.5964 - acc: 0.3000\n",
      "Epoch 72/100\n",
      "4/4 [==============================] - 0s 9ms/step - loss: 0.5962 - acc: 0.3000\n",
      "Epoch 73/100\n",
      "4/4 [==============================] - 0s 13ms/step - loss: 0.5961 - acc: 0.3000\n",
      "Epoch 74/100\n",
      "4/4 [==============================] - 0s 9ms/step - loss: 0.5959 - acc: 0.3000\n",
      "Epoch 75/100\n",
      "4/4 [==============================] - 0s 10ms/step - loss: 0.5958 - acc: 0.3000\n",
      "Epoch 76/100\n",
      "4/4 [==============================] - 0s 10ms/step - loss: 0.5956 - acc: 0.3000\n",
      "Epoch 77/100\n",
      "4/4 [==============================] - 0s 12ms/step - loss: 0.5954 - acc: 0.3000\n",
      "Epoch 78/100\n",
      "4/4 [==============================] - 0s 10ms/step - loss: 0.5953 - acc: 0.3000\n",
      "Epoch 79/100\n",
      "4/4 [==============================] - 0s 14ms/step - loss: 0.5951 - acc: 0.3000\n",
      "Epoch 80/100\n",
      "4/4 [==============================] - 0s 9ms/step - loss: 0.5950 - acc: 0.3000\n",
      "Epoch 81/100\n",
      "4/4 [==============================] - 0s 9ms/step - loss: 0.5948 - acc: 0.3000\n",
      "Epoch 82/100\n",
      "4/4 [==============================] - 0s 8ms/step - loss: 0.5947 - acc: 0.3000\n",
      "Epoch 83/100\n",
      "4/4 [==============================] - 0s 13ms/step - loss: 0.5945 - acc: 0.3000\n",
      "Epoch 84/100\n",
      "4/4 [==============================] - 0s 10ms/step - loss: 0.5943 - acc: 0.3000\n",
      "Epoch 85/100\n",
      "4/4 [==============================] - 0s 9ms/step - loss: 0.5942 - acc: 0.3000\n",
      "Epoch 86/100\n",
      "4/4 [==============================] - 0s 14ms/step - loss: 0.5940 - acc: 0.3000\n",
      "Epoch 87/100\n",
      "4/4 [==============================] - 0s 9ms/step - loss: 0.5939 - acc: 0.3000\n",
      "Epoch 88/100\n",
      "4/4 [==============================] - 0s 12ms/step - loss: 0.5937 - acc: 0.3000\n",
      "Epoch 89/100\n",
      "4/4 [==============================] - 0s 10ms/step - loss: 0.5935 - acc: 0.3000\n",
      "Epoch 90/100\n",
      "4/4 [==============================] - 0s 10ms/step - loss: 0.5934 - acc: 0.3000\n",
      "Epoch 91/100\n",
      "4/4 [==============================] - 0s 9ms/step - loss: 0.5932 - acc: 0.3000\n",
      "Epoch 92/100\n",
      "4/4 [==============================] - 0s 10ms/step - loss: 0.5930 - acc: 0.3000\n",
      "Epoch 93/100\n",
      "4/4 [==============================] - 0s 9ms/step - loss: 0.5929 - acc: 0.3000\n",
      "Epoch 94/100\n",
      "4/4 [==============================] - 0s 10ms/step - loss: 0.5927 - acc: 0.3000\n",
      "Epoch 95/100\n",
      "4/4 [==============================] - 0s 12ms/step - loss: 0.5925 - acc: 0.3000\n",
      "Epoch 96/100\n",
      "4/4 [==============================] - 0s 9ms/step - loss: 0.5924 - acc: 0.3000\n",
      "Epoch 97/100\n",
      "4/4 [==============================] - 0s 10ms/step - loss: 0.5922 - acc: 0.3000\n",
      "Epoch 98/100\n",
      "4/4 [==============================] - 0s 8ms/step - loss: 0.5920 - acc: 0.3000\n",
      "Epoch 99/100\n",
      "4/4 [==============================] - 0s 9ms/step - loss: 0.5919 - acc: 0.3000\n",
      "Epoch 100/100\n",
      "4/4 [==============================] - 0s 10ms/step - loss: 0.5917 - acc: 0.3000\n",
      "You must install pydot (`pip install pydot`) and install graphviz (see instructions at https://graphviz.gitlab.io/download/) for plot_model to work.\n"
     ]
    },
    {
     "name": "stderr",
     "output_type": "stream",
     "text": [
      "/Users/billdeng/anaconda3/envs/de_novo/lib/python3.10/site-packages/keras/src/engine/training.py:3000: UserWarning: You are saving your model as an HDF5 file via `model.save()`. This file format is considered legacy. We recommend using instead the native Keras format, e.g. `model.save('my_model.keras')`.\n",
      "  saving_api.save_model(\n"
     ]
    },
    {
     "data": {
      "text/plain": "<keras.src.callbacks.History at 0x7fe9677bea40>"
     },
     "execution_count": 53,
     "metadata": {},
     "output_type": "execute_result"
    }
   ],
   "source": [
    "pulmonic_model.fit(DNA,label_pulmonic,epochs=100)"
   ],
   "metadata": {
    "collapsed": false
   }
  },
  {
   "cell_type": "markdown",
   "source": [
    "## aorta Label Training\n"
   ],
   "metadata": {
    "collapsed": false
   }
  },
  {
   "cell_type": "code",
   "execution_count": 56,
   "outputs": [
    {
     "name": "stdout",
     "output_type": "stream",
     "text": [
      "Generated model-id: '82c05b0b72c5f81b96b53804fde971fe'\n",
      "Model: \"janggu\"\n",
      "_________________________________________________________________\n",
      " Layer (type)                Output Shape              Param #   \n",
      "=================================================================\n",
      " dna (InputLayer)            [(None, 200, 1, 4)]       0         \n",
      "                                                                 \n",
      " dna_conv2d_6 (DnaConv2D)    (None, 186, 1, 30)        1830      \n",
      "                                                                 \n",
      " motif (GlobalAveragePoolin  (None, 30)                0         \n",
      " g2D)                                                            \n",
      "                                                                 \n",
      " aorta_bigwig (Dense)        (None, 1)                 31        \n",
      "                                                                 \n",
      "=================================================================\n",
      "Total params: 1861 (7.27 KB)\n",
      "Trainable params: 1861 (7.27 KB)\n",
      "Non-trainable params: 0 (0.00 Byte)\n",
      "_________________________________________________________________\n"
     ]
    }
   ],
   "source": [
    "aorta_model = Janggu.create(template=DnaCon2D_model,\n",
    "                      modelparams=(30, 15, 'relu'),\n",
    "                      inputs=DNA, outputs=label_aorta)\n",
    "aorta_model.summary()"
   ],
   "metadata": {
    "collapsed": false
   }
  },
  {
   "cell_type": "code",
   "execution_count": 57,
   "outputs": [
    {
     "name": "stdout",
     "output_type": "stream",
     "text": [
      "Epoch 1/100\n",
      "4/4 [==============================] - 1s 9ms/step - loss: 0.8098 - acc: 0.0000e+00\n",
      "Epoch 2/100\n",
      "4/4 [==============================] - 0s 9ms/step - loss: 0.8096 - acc: 0.0000e+00\n",
      "Epoch 3/100\n",
      "4/4 [==============================] - 0s 11ms/step - loss: 0.8095 - acc: 0.0000e+00\n",
      "Epoch 4/100\n",
      "4/4 [==============================] - 0s 12ms/step - loss: 0.8094 - acc: 0.0000e+00\n",
      "Epoch 5/100\n",
      "4/4 [==============================] - 0s 13ms/step - loss: 0.8092 - acc: 0.0000e+00\n",
      "Epoch 6/100\n",
      "4/4 [==============================] - 0s 9ms/step - loss: 0.8091 - acc: 0.0000e+00\n",
      "Epoch 7/100\n",
      "4/4 [==============================] - 0s 8ms/step - loss: 0.8090 - acc: 0.0000e+00\n",
      "Epoch 8/100\n",
      "4/4 [==============================] - 0s 10ms/step - loss: 0.8088 - acc: 0.0000e+00\n",
      "Epoch 9/100\n",
      "4/4 [==============================] - 0s 13ms/step - loss: 0.8087 - acc: 0.0000e+00\n",
      "Epoch 10/100\n",
      "4/4 [==============================] - 0s 10ms/step - loss: 0.8086 - acc: 0.0000e+00\n",
      "Epoch 11/100\n",
      "4/4 [==============================] - 0s 8ms/step - loss: 0.8084 - acc: 0.0000e+00\n",
      "Epoch 12/100\n",
      "4/4 [==============================] - 0s 10ms/step - loss: 0.8083 - acc: 0.0000e+00\n",
      "Epoch 13/100\n",
      "4/4 [==============================] - 0s 9ms/step - loss: 0.8082 - acc: 0.0000e+00\n",
      "Epoch 14/100\n",
      "4/4 [==============================] - 0s 10ms/step - loss: 0.8080 - acc: 0.0000e+00\n",
      "Epoch 15/100\n",
      "4/4 [==============================] - 0s 10ms/step - loss: 0.8079 - acc: 0.0000e+00\n",
      "Epoch 16/100\n",
      "4/4 [==============================] - 0s 14ms/step - loss: 0.8077 - acc: 0.0000e+00\n",
      "Epoch 17/100\n",
      "4/4 [==============================] - 0s 10ms/step - loss: 0.8076 - acc: 0.0000e+00\n",
      "Epoch 18/100\n",
      "4/4 [==============================] - 0s 13ms/step - loss: 0.8075 - acc: 0.0000e+00\n",
      "Epoch 19/100\n",
      "4/4 [==============================] - 0s 9ms/step - loss: 0.8073 - acc: 0.0000e+00\n",
      "Epoch 20/100\n",
      "4/4 [==============================] - 0s 11ms/step - loss: 0.8072 - acc: 0.0000e+00\n",
      "Epoch 21/100\n",
      "4/4 [==============================] - 0s 11ms/step - loss: 0.8070 - acc: 0.0000e+00\n",
      "Epoch 22/100\n",
      "4/4 [==============================] - 0s 10ms/step - loss: 0.8069 - acc: 0.0000e+00\n",
      "Epoch 23/100\n",
      "4/4 [==============================] - 0s 10ms/step - loss: 0.8068 - acc: 0.0000e+00\n",
      "Epoch 24/100\n",
      "4/4 [==============================] - 0s 10ms/step - loss: 0.8066 - acc: 0.0000e+00\n",
      "Epoch 25/100\n",
      "4/4 [==============================] - 0s 9ms/step - loss: 0.8065 - acc: 0.0000e+00\n",
      "Epoch 26/100\n",
      "4/4 [==============================] - 0s 9ms/step - loss: 0.8063 - acc: 0.0000e+00\n",
      "Epoch 27/100\n",
      "4/4 [==============================] - 0s 9ms/step - loss: 0.8062 - acc: 0.0000e+00\n",
      "Epoch 28/100\n",
      "4/4 [==============================] - 0s 11ms/step - loss: 0.8061 - acc: 0.0000e+00\n",
      "Epoch 29/100\n",
      "4/4 [==============================] - 0s 10ms/step - loss: 0.8059 - acc: 0.0000e+00\n",
      "Epoch 30/100\n",
      "4/4 [==============================] - 0s 9ms/step - loss: 0.8057 - acc: 0.0000e+00\n",
      "Epoch 31/100\n",
      "4/4 [==============================] - 0s 13ms/step - loss: 0.8056 - acc: 0.0000e+00\n",
      "Epoch 32/100\n",
      "4/4 [==============================] - 0s 9ms/step - loss: 0.8055 - acc: 0.0000e+00\n",
      "Epoch 33/100\n",
      "4/4 [==============================] - 0s 10ms/step - loss: 0.8053 - acc: 0.0000e+00\n",
      "Epoch 34/100\n",
      "4/4 [==============================] - 0s 10ms/step - loss: 0.8052 - acc: 0.0000e+00\n",
      "Epoch 35/100\n",
      "4/4 [==============================] - 0s 10ms/step - loss: 0.8050 - acc: 0.0000e+00\n",
      "Epoch 36/100\n",
      "4/4 [==============================] - 0s 9ms/step - loss: 0.8049 - acc: 0.0000e+00\n",
      "Epoch 37/100\n",
      "4/4 [==============================] - 0s 14ms/step - loss: 0.8047 - acc: 0.0000e+00\n",
      "Epoch 38/100\n",
      "4/4 [==============================] - 0s 13ms/step - loss: 0.8046 - acc: 0.0000e+00\n",
      "Epoch 39/100\n",
      "4/4 [==============================] - 0s 13ms/step - loss: 0.8044 - acc: 0.0000e+00\n",
      "Epoch 40/100\n",
      "4/4 [==============================] - 0s 9ms/step - loss: 0.8043 - acc: 0.0000e+00\n",
      "Epoch 41/100\n",
      "4/4 [==============================] - 0s 11ms/step - loss: 0.8041 - acc: 0.0000e+00\n",
      "Epoch 42/100\n",
      "4/4 [==============================] - 0s 12ms/step - loss: 0.8040 - acc: 0.0000e+00\n",
      "Epoch 43/100\n",
      "4/4 [==============================] - 0s 14ms/step - loss: 0.8038 - acc: 0.0000e+00\n",
      "Epoch 44/100\n",
      "4/4 [==============================] - 0s 13ms/step - loss: 0.8037 - acc: 0.0000e+00\n",
      "Epoch 45/100\n",
      "4/4 [==============================] - 0s 11ms/step - loss: 0.8035 - acc: 0.0000e+00\n",
      "Epoch 46/100\n",
      "4/4 [==============================] - 0s 13ms/step - loss: 0.8033 - acc: 0.0000e+00\n",
      "Epoch 47/100\n",
      "4/4 [==============================] - 0s 13ms/step - loss: 0.8032 - acc: 0.0000e+00\n",
      "Epoch 48/100\n",
      "4/4 [==============================] - 0s 10ms/step - loss: 0.8031 - acc: 0.0000e+00\n",
      "Epoch 49/100\n",
      "4/4 [==============================] - 0s 10ms/step - loss: 0.8029 - acc: 0.0000e+00\n",
      "Epoch 50/100\n",
      "4/4 [==============================] - 0s 10ms/step - loss: 0.8027 - acc: 0.0000e+00\n",
      "Epoch 51/100\n",
      "4/4 [==============================] - 0s 10ms/step - loss: 0.8026 - acc: 0.0000e+00\n",
      "Epoch 52/100\n",
      "4/4 [==============================] - 0s 10ms/step - loss: 0.8024 - acc: 0.0000e+00\n",
      "Epoch 53/100\n",
      "4/4 [==============================] - 0s 13ms/step - loss: 0.8023 - acc: 0.0000e+00\n",
      "Epoch 54/100\n",
      "4/4 [==============================] - 0s 10ms/step - loss: 0.8021 - acc: 0.0000e+00\n",
      "Epoch 55/100\n",
      "4/4 [==============================] - 0s 18ms/step - loss: 0.8020 - acc: 0.0000e+00\n",
      "Epoch 56/100\n",
      "4/4 [==============================] - 0s 8ms/step - loss: 0.8018 - acc: 0.0000e+00\n",
      "Epoch 57/100\n",
      "4/4 [==============================] - 0s 9ms/step - loss: 0.8017 - acc: 0.0000e+00\n",
      "Epoch 58/100\n",
      "4/4 [==============================] - 0s 13ms/step - loss: 0.8015 - acc: 0.0000e+00\n",
      "Epoch 59/100\n",
      "4/4 [==============================] - 0s 13ms/step - loss: 0.8013 - acc: 0.0000e+00\n",
      "Epoch 60/100\n",
      "4/4 [==============================] - 0s 10ms/step - loss: 0.8012 - acc: 0.0000e+00\n",
      "Epoch 61/100\n",
      "4/4 [==============================] - 0s 13ms/step - loss: 0.8010 - acc: 0.0000e+00\n",
      "Epoch 62/100\n",
      "4/4 [==============================] - 0s 11ms/step - loss: 0.8009 - acc: 0.0000e+00\n",
      "Epoch 63/100\n",
      "4/4 [==============================] - 0s 10ms/step - loss: 0.8007 - acc: 0.0000e+00\n",
      "Epoch 64/100\n",
      "4/4 [==============================] - 0s 13ms/step - loss: 0.8005 - acc: 0.0000e+00\n",
      "Epoch 65/100\n",
      "4/4 [==============================] - 0s 9ms/step - loss: 0.8004 - acc: 0.0000e+00\n",
      "Epoch 66/100\n",
      "4/4 [==============================] - 0s 10ms/step - loss: 0.8003 - acc: 0.0000e+00\n",
      "Epoch 67/100\n",
      "4/4 [==============================] - 0s 10ms/step - loss: 0.8001 - acc: 0.0000e+00\n",
      "Epoch 68/100\n",
      "4/4 [==============================] - 0s 10ms/step - loss: 0.7999 - acc: 0.0000e+00\n",
      "Epoch 69/100\n",
      "4/4 [==============================] - 0s 9ms/step - loss: 0.7997 - acc: 0.0000e+00\n",
      "Epoch 70/100\n",
      "4/4 [==============================] - 0s 10ms/step - loss: 0.7996 - acc: 0.0000e+00\n",
      "Epoch 71/100\n",
      "4/4 [==============================] - 0s 10ms/step - loss: 0.7994 - acc: 0.0000e+00\n",
      "Epoch 72/100\n",
      "4/4 [==============================] - 0s 10ms/step - loss: 0.7993 - acc: 0.0000e+00\n",
      "Epoch 73/100\n",
      "4/4 [==============================] - 0s 13ms/step - loss: 0.7991 - acc: 0.0000e+00\n",
      "Epoch 74/100\n",
      "4/4 [==============================] - 0s 10ms/step - loss: 0.7989 - acc: 0.0000e+00\n",
      "Epoch 75/100\n",
      "4/4 [==============================] - 0s 9ms/step - loss: 0.7988 - acc: 0.0000e+00\n",
      "Epoch 76/100\n",
      "4/4 [==============================] - 0s 11ms/step - loss: 0.7986 - acc: 0.0000e+00\n",
      "Epoch 77/100\n",
      "4/4 [==============================] - 0s 9ms/step - loss: 0.7985 - acc: 0.0000e+00\n",
      "Epoch 78/100\n",
      "4/4 [==============================] - 0s 9ms/step - loss: 0.7983 - acc: 0.0000e+00\n",
      "Epoch 79/100\n",
      "4/4 [==============================] - 0s 9ms/step - loss: 0.7981 - acc: 0.0000e+00\n",
      "Epoch 80/100\n",
      "4/4 [==============================] - 0s 10ms/step - loss: 0.7979 - acc: 0.0000e+00\n",
      "Epoch 81/100\n",
      "4/4 [==============================] - 0s 10ms/step - loss: 0.7978 - acc: 0.0000e+00\n",
      "Epoch 82/100\n",
      "4/4 [==============================] - 0s 10ms/step - loss: 0.7976 - acc: 0.0000e+00\n",
      "Epoch 83/100\n",
      "4/4 [==============================] - 0s 13ms/step - loss: 0.7974 - acc: 0.0000e+00\n",
      "Epoch 84/100\n",
      "4/4 [==============================] - 0s 10ms/step - loss: 0.7973 - acc: 0.0000e+00\n",
      "Epoch 85/100\n",
      "4/4 [==============================] - 0s 12ms/step - loss: 0.7971 - acc: 0.0000e+00\n",
      "Epoch 86/100\n",
      "4/4 [==============================] - 0s 10ms/step - loss: 0.7970 - acc: 0.0000e+00\n",
      "Epoch 87/100\n",
      "4/4 [==============================] - 0s 11ms/step - loss: 0.7968 - acc: 0.0000e+00\n",
      "Epoch 88/100\n",
      "4/4 [==============================] - 0s 10ms/step - loss: 0.7966 - acc: 0.0000e+00\n",
      "Epoch 89/100\n",
      "4/4 [==============================] - 0s 12ms/step - loss: 0.7964 - acc: 0.0000e+00\n",
      "Epoch 90/100\n",
      "4/4 [==============================] - 0s 9ms/step - loss: 0.7963 - acc: 0.0000e+00\n",
      "Epoch 91/100\n",
      "4/4 [==============================] - 0s 10ms/step - loss: 0.7961 - acc: 0.0000e+00\n",
      "Epoch 92/100\n",
      "4/4 [==============================] - 0s 10ms/step - loss: 0.7959 - acc: 0.0000e+00\n",
      "Epoch 93/100\n",
      "4/4 [==============================] - 0s 10ms/step - loss: 0.7958 - acc: 0.0000e+00\n",
      "Epoch 94/100\n",
      "4/4 [==============================] - 0s 10ms/step - loss: 0.7956 - acc: 0.0000e+00\n",
      "Epoch 95/100\n",
      "4/4 [==============================] - 0s 11ms/step - loss: 0.7954 - acc: 0.0000e+00\n",
      "Epoch 96/100\n",
      "4/4 [==============================] - 0s 11ms/step - loss: 0.7952 - acc: 0.0000e+00\n",
      "Epoch 97/100\n",
      "4/4 [==============================] - 0s 9ms/step - loss: 0.7951 - acc: 0.0000e+00\n",
      "Epoch 98/100\n",
      "4/4 [==============================] - 0s 12ms/step - loss: 0.7949 - acc: 0.0000e+00\n",
      "Epoch 99/100\n",
      "4/4 [==============================] - 0s 9ms/step - loss: 0.7948 - acc: 0.0000e+00\n",
      "Epoch 100/100\n",
      "4/4 [==============================] - 0s 12ms/step - loss: 0.7945 - acc: 0.0000e+00\n",
      "You must install pydot (`pip install pydot`) and install graphviz (see instructions at https://graphviz.gitlab.io/download/) for plot_model to work.\n"
     ]
    },
    {
     "name": "stderr",
     "output_type": "stream",
     "text": [
      "/Users/billdeng/anaconda3/envs/de_novo/lib/python3.10/site-packages/keras/src/engine/training.py:3000: UserWarning: You are saving your model as an HDF5 file via `model.save()`. This file format is considered legacy. We recommend using instead the native Keras format, e.g. `model.save('my_model.keras')`.\n",
      "  saving_api.save_model(\n"
     ]
    },
    {
     "data": {
      "text/plain": "<keras.src.callbacks.History at 0x7fe7a325b2e0>"
     },
     "execution_count": 57,
     "metadata": {},
     "output_type": "execute_result"
    }
   ],
   "source": [
    "aorta_model.compile(optimizer='adadelta', loss='binary_crossentropy',\n",
    "              metrics=['acc'])\n",
    "aorta_model.fit(DNA,label_aorta,epochs=100)"
   ],
   "metadata": {
    "collapsed": false
   }
  },
  {
   "cell_type": "markdown",
   "source": [],
   "metadata": {
    "collapsed": false
   }
  },
  {
   "cell_type": "markdown",
   "source": [
    "artery Label Training"
   ],
   "metadata": {
    "collapsed": false
   }
  },
  {
   "cell_type": "markdown",
   "source": [],
   "metadata": {
    "collapsed": false
   }
  },
  {
   "cell_type": "code",
   "execution_count": 59,
   "outputs": [
    {
     "name": "stdout",
     "output_type": "stream",
     "text": [
      "Generated model-id: '0ca3d5cf5eb65680e7e66430f4cd4d88'\n",
      "Model: \"janggu\"\n",
      "_________________________________________________________________\n",
      " Layer (type)                Output Shape              Param #   \n",
      "=================================================================\n",
      " dna (InputLayer)            [(None, 200, 1, 4)]       0         \n",
      "                                                                 \n",
      " dna_conv2d_8 (DnaConv2D)    (None, 186, 1, 30)        1830      \n",
      "                                                                 \n",
      " motif (GlobalAveragePoolin  (None, 30)                0         \n",
      " g2D)                                                            \n",
      "                                                                 \n",
      " artery_bigwig (Dense)       (None, 1)                 31        \n",
      "                                                                 \n",
      "=================================================================\n",
      "Total params: 1861 (7.27 KB)\n",
      "Trainable params: 1861 (7.27 KB)\n",
      "Non-trainable params: 0 (0.00 Byte)\n",
      "_________________________________________________________________\n"
     ]
    }
   ],
   "source": [
    "artery_model = Janggu.create(template=DnaCon2D_model,\n",
    "                      modelparams=(30, 15, 'relu'),\n",
    "                      inputs=DNA, outputs=label_artery)\n",
    "artery_model.summary()"
   ],
   "metadata": {
    "collapsed": false
   }
  },
  {
   "cell_type": "code",
   "execution_count": 60,
   "outputs": [
    {
     "name": "stdout",
     "output_type": "stream",
     "text": [
      "Epoch 1/100\n"
     ]
    },
    {
     "name": "stderr",
     "output_type": "stream",
     "text": [
      "/Users/billdeng/PycharmProjects/genes/janggu/model.py:575: UserWarning: `Model.fit_generator` is deprecated and will be removed in a future version. Please use `Model.fit`, which supports generators.\n",
      "  history = self.kerasmodel.fit_generator(\n"
     ]
    },
    {
     "name": "stdout",
     "output_type": "stream",
     "text": [
      "4/4 [==============================] - 1s 7ms/step - loss: 0.5983 - acc: 0.6900\n",
      "Epoch 2/100\n",
      "4/4 [==============================] - 0s 13ms/step - loss: 0.5981 - acc: 0.6900\n",
      "Epoch 3/100\n",
      "4/4 [==============================] - 0s 13ms/step - loss: 0.5980 - acc: 0.6900\n",
      "Epoch 4/100\n",
      "4/4 [==============================] - 0s 13ms/step - loss: 0.5979 - acc: 0.6900\n",
      "Epoch 5/100\n",
      "4/4 [==============================] - 0s 10ms/step - loss: 0.5978 - acc: 0.6900\n",
      "Epoch 6/100\n",
      "4/4 [==============================] - 0s 10ms/step - loss: 0.5977 - acc: 0.6900\n",
      "Epoch 7/100\n",
      "4/4 [==============================] - 0s 10ms/step - loss: 0.5976 - acc: 0.6900\n",
      "Epoch 8/100\n",
      "4/4 [==============================] - 0s 8ms/step - loss: 0.5974 - acc: 0.6900\n",
      "Epoch 9/100\n",
      "4/4 [==============================] - 0s 13ms/step - loss: 0.5973 - acc: 0.6900\n",
      "Epoch 10/100\n",
      "4/4 [==============================] - 0s 10ms/step - loss: 0.5972 - acc: 0.6900\n",
      "Epoch 11/100\n",
      "4/4 [==============================] - 0s 9ms/step - loss: 0.5971 - acc: 0.6900\n",
      "Epoch 12/100\n",
      "4/4 [==============================] - 0s 9ms/step - loss: 0.5970 - acc: 0.6900\n",
      "Epoch 13/100\n",
      "4/4 [==============================] - 0s 8ms/step - loss: 0.5968 - acc: 0.6900\n",
      "Epoch 14/100\n",
      "4/4 [==============================] - 0s 8ms/step - loss: 0.5967 - acc: 0.6900\n",
      "Epoch 15/100\n",
      "4/4 [==============================] - 0s 9ms/step - loss: 0.5966 - acc: 0.6900\n",
      "Epoch 16/100\n",
      "4/4 [==============================] - 0s 11ms/step - loss: 0.5965 - acc: 0.6900\n",
      "Epoch 17/100\n",
      "4/4 [==============================] - 0s 13ms/step - loss: 0.5963 - acc: 0.6900\n",
      "Epoch 18/100\n",
      "4/4 [==============================] - 0s 10ms/step - loss: 0.5962 - acc: 0.6900\n",
      "Epoch 19/100\n",
      "4/4 [==============================] - 0s 10ms/step - loss: 0.5961 - acc: 0.6900\n",
      "Epoch 20/100\n",
      "4/4 [==============================] - 0s 10ms/step - loss: 0.5960 - acc: 0.6900\n",
      "Epoch 21/100\n",
      "4/4 [==============================] - 0s 10ms/step - loss: 0.5959 - acc: 0.6900\n",
      "Epoch 22/100\n",
      "4/4 [==============================] - 0s 11ms/step - loss: 0.5957 - acc: 0.6900\n",
      "Epoch 23/100\n",
      "4/4 [==============================] - 0s 9ms/step - loss: 0.5956 - acc: 0.6900\n",
      "Epoch 24/100\n",
      "4/4 [==============================] - 0s 9ms/step - loss: 0.5955 - acc: 0.6900\n",
      "Epoch 25/100\n",
      "4/4 [==============================] - 0s 10ms/step - loss: 0.5953 - acc: 0.6900\n",
      "Epoch 26/100\n",
      "4/4 [==============================] - 0s 9ms/step - loss: 0.5952 - acc: 0.6900\n",
      "Epoch 27/100\n",
      "4/4 [==============================] - 0s 10ms/step - loss: 0.5951 - acc: 0.6900\n",
      "Epoch 28/100\n",
      "4/4 [==============================] - 0s 10ms/step - loss: 0.5950 - acc: 0.6900\n",
      "Epoch 29/100\n",
      "4/4 [==============================] - 0s 14ms/step - loss: 0.5948 - acc: 0.6900\n",
      "Epoch 30/100\n",
      "4/4 [==============================] - 0s 10ms/step - loss: 0.5947 - acc: 0.6900\n",
      "Epoch 31/100\n",
      "4/4 [==============================] - 0s 9ms/step - loss: 0.5946 - acc: 0.6900\n",
      "Epoch 32/100\n",
      "4/4 [==============================] - 0s 10ms/step - loss: 0.5944 - acc: 0.6900\n",
      "Epoch 33/100\n",
      "4/4 [==============================] - 0s 9ms/step - loss: 0.5943 - acc: 0.6900\n",
      "Epoch 34/100\n",
      "4/4 [==============================] - 0s 10ms/step - loss: 0.5942 - acc: 0.6900\n",
      "Epoch 35/100\n",
      "4/4 [==============================] - 0s 8ms/step - loss: 0.5940 - acc: 0.6900\n",
      "Epoch 36/100\n",
      "4/4 [==============================] - 0s 9ms/step - loss: 0.5939 - acc: 0.6900\n",
      "Epoch 37/100\n",
      "4/4 [==============================] - 0s 9ms/step - loss: 0.5938 - acc: 0.6900\n",
      "Epoch 38/100\n",
      "4/4 [==============================] - 0s 9ms/step - loss: 0.5936 - acc: 0.6900\n",
      "Epoch 39/100\n",
      "4/4 [==============================] - 0s 12ms/step - loss: 0.5935 - acc: 0.6900\n",
      "Epoch 40/100\n",
      "4/4 [==============================] - 0s 10ms/step - loss: 0.5934 - acc: 0.6900\n",
      "Epoch 41/100\n",
      "4/4 [==============================] - 0s 9ms/step - loss: 0.5932 - acc: 0.6900\n",
      "Epoch 42/100\n",
      "4/4 [==============================] - 0s 9ms/step - loss: 0.5931 - acc: 0.6900\n",
      "Epoch 43/100\n",
      "4/4 [==============================] - 0s 10ms/step - loss: 0.5930 - acc: 0.6900\n",
      "Epoch 44/100\n",
      "4/4 [==============================] - 0s 9ms/step - loss: 0.5928 - acc: 0.6900\n",
      "Epoch 45/100\n",
      "4/4 [==============================] - 0s 10ms/step - loss: 0.5927 - acc: 0.6900\n",
      "Epoch 46/100\n",
      "4/4 [==============================] - 0s 9ms/step - loss: 0.5926 - acc: 0.6900\n",
      "Epoch 47/100\n",
      "4/4 [==============================] - 0s 10ms/step - loss: 0.5924 - acc: 0.6900\n",
      "Epoch 48/100\n",
      "4/4 [==============================] - 0s 10ms/step - loss: 0.5923 - acc: 0.6900\n",
      "Epoch 49/100\n",
      "4/4 [==============================] - 0s 10ms/step - loss: 0.5922 - acc: 0.6900\n",
      "Epoch 50/100\n",
      "4/4 [==============================] - 0s 12ms/step - loss: 0.5920 - acc: 0.6900\n",
      "Epoch 51/100\n",
      "4/4 [==============================] - 0s 10ms/step - loss: 0.5919 - acc: 0.6900\n",
      "Epoch 52/100\n",
      "4/4 [==============================] - 0s 12ms/step - loss: 0.5917 - acc: 0.6900\n",
      "Epoch 53/100\n",
      "4/4 [==============================] - 0s 10ms/step - loss: 0.5916 - acc: 0.6900\n",
      "Epoch 54/100\n",
      "4/4 [==============================] - 0s 9ms/step - loss: 0.5915 - acc: 0.6900\n",
      "Epoch 55/100\n",
      "4/4 [==============================] - 0s 10ms/step - loss: 0.5913 - acc: 0.6900\n",
      "Epoch 56/100\n",
      "4/4 [==============================] - 0s 10ms/step - loss: 0.5912 - acc: 0.6900\n",
      "Epoch 57/100\n",
      "4/4 [==============================] - 0s 13ms/step - loss: 0.5910 - acc: 0.6900\n",
      "Epoch 58/100\n",
      "4/4 [==============================] - 0s 9ms/step - loss: 0.5909 - acc: 0.6900\n",
      "Epoch 59/100\n",
      "4/4 [==============================] - 0s 13ms/step - loss: 0.5908 - acc: 0.6900\n",
      "Epoch 60/100\n",
      "4/4 [==============================] - 0s 12ms/step - loss: 0.5906 - acc: 0.6900\n",
      "Epoch 61/100\n",
      "4/4 [==============================] - 0s 10ms/step - loss: 0.5905 - acc: 0.6900\n",
      "Epoch 62/100\n",
      "4/4 [==============================] - 0s 10ms/step - loss: 0.5904 - acc: 0.6900\n",
      "Epoch 63/100\n",
      "4/4 [==============================] - 0s 10ms/step - loss: 0.5902 - acc: 0.6900\n",
      "Epoch 64/100\n",
      "4/4 [==============================] - 0s 10ms/step - loss: 0.5901 - acc: 0.6900\n",
      "Epoch 65/100\n",
      "4/4 [==============================] - 0s 9ms/step - loss: 0.5899 - acc: 0.6900\n",
      "Epoch 66/100\n",
      "4/4 [==============================] - 0s 13ms/step - loss: 0.5897 - acc: 0.6900\n",
      "Epoch 67/100\n",
      "4/4 [==============================] - 0s 10ms/step - loss: 0.5896 - acc: 0.6900\n",
      "Epoch 68/100\n",
      "4/4 [==============================] - 0s 10ms/step - loss: 0.5895 - acc: 0.6900\n",
      "Epoch 69/100\n",
      "4/4 [==============================] - 0s 13ms/step - loss: 0.5893 - acc: 0.6900\n",
      "Epoch 70/100\n",
      "4/4 [==============================] - 0s 10ms/step - loss: 0.5892 - acc: 0.6900\n",
      "Epoch 71/100\n",
      "4/4 [==============================] - 0s 12ms/step - loss: 0.5890 - acc: 0.6900\n",
      "Epoch 72/100\n",
      "4/4 [==============================] - 0s 8ms/step - loss: 0.5889 - acc: 0.6900\n",
      "Epoch 73/100\n",
      "4/4 [==============================] - 0s 13ms/step - loss: 0.5887 - acc: 0.6900\n",
      "Epoch 74/100\n",
      "4/4 [==============================] - 0s 8ms/step - loss: 0.5886 - acc: 0.6900\n",
      "Epoch 75/100\n",
      "4/4 [==============================] - 0s 13ms/step - loss: 0.5884 - acc: 0.6900\n",
      "Epoch 76/100\n",
      "4/4 [==============================] - 0s 11ms/step - loss: 0.5883 - acc: 0.6900\n",
      "Epoch 77/100\n",
      "4/4 [==============================] - 0s 10ms/step - loss: 0.5882 - acc: 0.6900\n",
      "Epoch 78/100\n",
      "4/4 [==============================] - 0s 8ms/step - loss: 0.5880 - acc: 0.6900\n",
      "Epoch 79/100\n",
      "4/4 [==============================] - 0s 9ms/step - loss: 0.5879 - acc: 0.6900\n",
      "Epoch 80/100\n",
      "4/4 [==============================] - 0s 9ms/step - loss: 0.5877 - acc: 0.6900\n",
      "Epoch 81/100\n",
      "4/4 [==============================] - 0s 10ms/step - loss: 0.5876 - acc: 0.6900\n",
      "Epoch 82/100\n",
      "4/4 [==============================] - 0s 11ms/step - loss: 0.5874 - acc: 0.6900\n",
      "Epoch 83/100\n",
      "4/4 [==============================] - 0s 9ms/step - loss: 0.5873 - acc: 0.6900\n",
      "Epoch 84/100\n",
      "4/4 [==============================] - 0s 9ms/step - loss: 0.5871 - acc: 0.6900\n",
      "Epoch 85/100\n",
      "4/4 [==============================] - 0s 10ms/step - loss: 0.5870 - acc: 0.6900\n",
      "Epoch 86/100\n",
      "4/4 [==============================] - 0s 10ms/step - loss: 0.5868 - acc: 0.6900\n",
      "Epoch 87/100\n",
      "4/4 [==============================] - 0s 9ms/step - loss: 0.5867 - acc: 0.6900\n",
      "Epoch 88/100\n",
      "4/4 [==============================] - 0s 11ms/step - loss: 0.5865 - acc: 0.6900\n",
      "Epoch 89/100\n",
      "4/4 [==============================] - 0s 13ms/step - loss: 0.5863 - acc: 0.6900\n",
      "Epoch 90/100\n",
      "4/4 [==============================] - 0s 14ms/step - loss: 0.5862 - acc: 0.6900\n",
      "Epoch 91/100\n",
      "4/4 [==============================] - 0s 10ms/step - loss: 0.5860 - acc: 0.6900\n",
      "Epoch 92/100\n",
      "4/4 [==============================] - 0s 11ms/step - loss: 0.5859 - acc: 0.6900\n",
      "Epoch 93/100\n",
      "4/4 [==============================] - 0s 15ms/step - loss: 0.5857 - acc: 0.6900\n",
      "Epoch 94/100\n",
      "4/4 [==============================] - 0s 11ms/step - loss: 0.5856 - acc: 0.6900\n",
      "Epoch 95/100\n",
      "4/4 [==============================] - 0s 15ms/step - loss: 0.5854 - acc: 0.6900\n",
      "Epoch 96/100\n",
      "4/4 [==============================] - 0s 10ms/step - loss: 0.5853 - acc: 0.6900\n",
      "Epoch 97/100\n",
      "4/4 [==============================] - 0s 12ms/step - loss: 0.5851 - acc: 0.6900\n",
      "Epoch 98/100\n",
      "4/4 [==============================] - 0s 10ms/step - loss: 0.5850 - acc: 0.6900\n",
      "Epoch 99/100\n",
      "4/4 [==============================] - 0s 8ms/step - loss: 0.5848 - acc: 0.6900\n",
      "Epoch 100/100\n",
      "4/4 [==============================] - 0s 10ms/step - loss: 0.5846 - acc: 0.6900\n",
      "You must install pydot (`pip install pydot`) and install graphviz (see instructions at https://graphviz.gitlab.io/download/) for plot_model to work.\n"
     ]
    },
    {
     "name": "stderr",
     "output_type": "stream",
     "text": [
      "/Users/billdeng/anaconda3/envs/de_novo/lib/python3.10/site-packages/keras/src/engine/training.py:3000: UserWarning: You are saving your model as an HDF5 file via `model.save()`. This file format is considered legacy. We recommend using instead the native Keras format, e.g. `model.save('my_model.keras')`.\n",
      "  saving_api.save_model(\n"
     ]
    },
    {
     "data": {
      "text/plain": "<keras.src.callbacks.History at 0x7fe79efecac0>"
     },
     "execution_count": 60,
     "metadata": {},
     "output_type": "execute_result"
    }
   ],
   "source": [
    "artery_model.compile(optimizer='adadelta', loss='binary_crossentropy',\n",
    "              metrics=['acc'])\n",
    "artery_model.fit(DNA,label_artery,epochs=100)"
   ],
   "metadata": {
    "collapsed": false
   }
  },
  {
   "cell_type": "markdown",
   "source": [
    "## DNACon2D Models Eval"
   ],
   "metadata": {
    "collapsed": false
   }
  },
  {
   "cell_type": "code",
   "execution_count": 64,
   "outputs": [
    {
     "name": "stdout",
     "output_type": "stream",
     "text": [
      "loss 0.591599702835083\n",
      "accuracy 0.30000001192092896\n"
     ]
    },
    {
     "name": "stderr",
     "output_type": "stream",
     "text": [
      "/Users/billdeng/PycharmProjects/genes/janggu/model.py:789: UserWarning: `Model.evaluate_generator` is deprecated and will be removed in a future version. Please use `Model.evaluate`, which supports generators.\n",
      "  values = self.kerasmodel.evaluate_generator(\n",
      "/Users/billdeng/PycharmProjects/genes/janggu/model.py:808: UserWarning: `Model.predict_generator` is deprecated and will be removed in a future version. Please use `Model.predict`, which supports generators.\n",
      "  preds = self.kerasmodel.predict_generator(jseq, steps=steps,\n"
     ]
    }
   ],
   "source": [
    "loss ,accuracy = pulmonic_model.evaluate(DNA, test_pulmonic)\n",
    "print('loss', loss)\n",
    "print('accuracy', accuracy)"
   ],
   "metadata": {
    "collapsed": false
   }
  },
  {
   "cell_type": "code",
   "execution_count": 65,
   "outputs": [
    {
     "name": "stderr",
     "output_type": "stream",
     "text": [
      "/Users/billdeng/PycharmProjects/genes/janggu/model.py:789: UserWarning: `Model.evaluate_generator` is deprecated and will be removed in a future version. Please use `Model.evaluate`, which supports generators.\n",
      "  values = self.kerasmodel.evaluate_generator(\n",
      "/Users/billdeng/PycharmProjects/genes/janggu/model.py:808: UserWarning: `Model.predict_generator` is deprecated and will be removed in a future version. Please use `Model.predict`, which supports generators.\n",
      "  preds = self.kerasmodel.predict_generator(jseq, steps=steps,\n"
     ]
    },
    {
     "name": "stdout",
     "output_type": "stream",
     "text": [
      "loss 0.7944567203521729\n",
      "accuracy 0.0\n"
     ]
    }
   ],
   "source": [
    "loss ,accuracy = aorta_model.evaluate(DNA, test_aorta)\n",
    "print('loss', loss)\n",
    "print('accuracy', accuracy)"
   ],
   "metadata": {
    "collapsed": false
   }
  },
  {
   "cell_type": "code",
   "execution_count": 66,
   "outputs": [
    {
     "name": "stderr",
     "output_type": "stream",
     "text": [
      "/Users/billdeng/PycharmProjects/genes/janggu/model.py:789: UserWarning: `Model.evaluate_generator` is deprecated and will be removed in a future version. Please use `Model.evaluate`, which supports generators.\n",
      "  values = self.kerasmodel.evaluate_generator(\n",
      "/Users/billdeng/PycharmProjects/genes/janggu/model.py:808: UserWarning: `Model.predict_generator` is deprecated and will be removed in a future version. Please use `Model.predict`, which supports generators.\n",
      "  preds = self.kerasmodel.predict_generator(jseq, steps=steps,\n"
     ]
    },
    {
     "name": "stdout",
     "output_type": "stream",
     "text": [
      "loss 0.5845406651496887\n",
      "accuracy 0.6899999976158142\n"
     ]
    }
   ],
   "source": [
    "loss ,accuracy = artery_model.evaluate(DNA, test_artery)\n",
    "print('loss', loss)\n",
    "print('accuracy', accuracy)"
   ],
   "metadata": {
    "collapsed": false
   }
  },
  {
   "cell_type": "markdown",
   "source": [
    "# Single-layer Net"
   ],
   "metadata": {
    "collapsed": false
   }
  },
  {
   "cell_type": "code",
   "execution_count": 45,
   "outputs": [],
   "source": [
    "from keras.layers import Conv1D\n",
    "from keras.layers import Conv2D\n",
    "from keras.layers import GlobalAveragePooling2D\n",
    "from janggu import inputlayer, outputdense\n",
    "from janggu import outputconv\n",
    "from janggu import DnaConv2D\n",
    "from janggu.data import ReduceDim\n",
    "@inputlayer\n",
    "@outputdense('sigmoid')\n",
    "def Conv1D_model(inputs, inp, oup, params):\n",
    "    with inputs.use('dna') as layer:\n",
    "        # The DnaConv2D wrapper can be used with Conv2D\n",
    "        # to scan both DNA strands with the weight matrices.\n",
    "        layer = Conv1D(1, 1, activation='relu')(layer)\n",
    "    output = GlobalAveragePooling2D(name='motif')(layer)\n",
    "    return inputs, output"
   ],
   "metadata": {
    "collapsed": false
   }
  },
  {
   "cell_type": "code",
   "execution_count": 46,
   "outputs": [
    {
     "name": "stdout",
     "output_type": "stream",
     "text": [
      "Generated model-id: '3d303ccdfa2e087f0f3a19f53ceee58b'\n",
      "Model: \"janggu\"\n",
      "_________________________________________________________________\n",
      " Layer (type)                Output Shape              Param #   \n",
      "=================================================================\n",
      " dna (InputLayer)            [(None, 200, 1, 4)]       0         \n",
      "                                                                 \n",
      " conv1d_1 (Conv1D)           (None, 200, 1, 1)         5         \n",
      "                                                                 \n",
      " motif (GlobalAveragePoolin  (None, 1)                 0         \n",
      " g2D)                                                            \n",
      "                                                                 \n",
      " pulmonic_bigwig (Dense)     (None, 1)                 2         \n",
      "                                                                 \n",
      "=================================================================\n",
      "Total params: 7 (28.00 Byte)\n",
      "Trainable params: 7 (28.00 Byte)\n",
      "Non-trainable params: 0 (0.00 Byte)\n",
      "_________________________________________________________________\n"
     ]
    }
   ],
   "source": [
    "pulmonic_model = Janggu.create(template=Conv1D_model,\n",
    "                      inputs=DNA, outputs=label_pulmonic)\n",
    "pulmonic_model.summary()"
   ],
   "metadata": {
    "collapsed": false
   }
  },
  {
   "cell_type": "code",
   "execution_count": 48,
   "outputs": [
    {
     "name": "stdout",
     "output_type": "stream",
     "text": [
      "Epoch 1/100\n"
     ]
    },
    {
     "name": "stderr",
     "output_type": "stream",
     "text": [
      "/Users/billdeng/PycharmProjects/genes/janggu/model.py:575: UserWarning: `Model.fit_generator` is deprecated and will be removed in a future version. Please use `Model.fit`, which supports generators.\n",
      "  history = self.kerasmodel.fit_generator(\n"
     ]
    },
    {
     "name": "stdout",
     "output_type": "stream",
     "text": [
      "4/4 [==============================] - 1s 6ms/step - loss: 0.9623 - acc: 0.0000e+00\n",
      "Epoch 2/100\n",
      "4/4 [==============================] - 0s 5ms/step - loss: 0.9623 - acc: 0.0000e+00\n",
      "Epoch 3/100\n",
      "4/4 [==============================] - 0s 8ms/step - loss: 0.9623 - acc: 0.0000e+00\n",
      "Epoch 4/100\n",
      "4/4 [==============================] - 0s 6ms/step - loss: 0.9623 - acc: 0.0000e+00\n",
      "Epoch 5/100\n",
      "4/4 [==============================] - 0s 7ms/step - loss: 0.9623 - acc: 0.0000e+00\n",
      "Epoch 6/100\n",
      "4/4 [==============================] - 0s 6ms/step - loss: 0.9623 - acc: 0.0000e+00\n",
      "Epoch 7/100\n",
      "4/4 [==============================] - 0s 8ms/step - loss: 0.9623 - acc: 0.0000e+00\n",
      "Epoch 8/100\n",
      "4/4 [==============================] - 0s 6ms/step - loss: 0.9623 - acc: 0.0000e+00\n",
      "Epoch 9/100\n",
      "4/4 [==============================] - 0s 8ms/step - loss: 0.9622 - acc: 0.0000e+00\n",
      "Epoch 10/100\n",
      "4/4 [==============================] - 0s 7ms/step - loss: 0.9622 - acc: 0.0000e+00\n",
      "Epoch 11/100\n",
      "4/4 [==============================] - 0s 5ms/step - loss: 0.9622 - acc: 0.0000e+00\n",
      "Epoch 12/100\n",
      "4/4 [==============================] - 0s 6ms/step - loss: 0.9622 - acc: 0.0000e+00\n",
      "Epoch 13/100\n",
      "4/4 [==============================] - 0s 7ms/step - loss: 0.9622 - acc: 0.0000e+00\n",
      "Epoch 14/100\n",
      "4/4 [==============================] - 0s 8ms/step - loss: 0.9622 - acc: 0.0000e+00\n",
      "Epoch 15/100\n",
      "4/4 [==============================] - 0s 8ms/step - loss: 0.9622 - acc: 0.0000e+00\n",
      "Epoch 16/100\n",
      "4/4 [==============================] - 0s 6ms/step - loss: 0.9621 - acc: 0.0000e+00\n",
      "Epoch 17/100\n",
      "4/4 [==============================] - 0s 7ms/step - loss: 0.9621 - acc: 0.0000e+00\n",
      "Epoch 18/100\n",
      "4/4 [==============================] - 0s 5ms/step - loss: 0.9621 - acc: 0.0000e+00\n",
      "Epoch 19/100\n",
      "4/4 [==============================] - 0s 7ms/step - loss: 0.9621 - acc: 0.0000e+00\n",
      "Epoch 20/100\n",
      "4/4 [==============================] - 0s 6ms/step - loss: 0.9621 - acc: 0.0000e+00\n",
      "Epoch 21/100\n",
      "4/4 [==============================] - 0s 7ms/step - loss: 0.9621 - acc: 0.0000e+00\n",
      "Epoch 22/100\n",
      "4/4 [==============================] - 0s 5ms/step - loss: 0.9621 - acc: 0.0000e+00\n",
      "Epoch 23/100\n",
      "4/4 [==============================] - 0s 8ms/step - loss: 0.9620 - acc: 0.0000e+00\n",
      "Epoch 24/100\n",
      "4/4 [==============================] - 0s 8ms/step - loss: 0.9620 - acc: 0.0000e+00\n",
      "Epoch 25/100\n",
      "4/4 [==============================] - 0s 5ms/step - loss: 0.9620 - acc: 0.0000e+00\n",
      "Epoch 26/100\n",
      "4/4 [==============================] - 0s 6ms/step - loss: 0.9620 - acc: 0.0000e+00\n",
      "Epoch 27/100\n",
      "4/4 [==============================] - 0s 6ms/step - loss: 0.9620 - acc: 0.0000e+00\n",
      "Epoch 28/100\n",
      "4/4 [==============================] - 0s 6ms/step - loss: 0.9620 - acc: 0.0000e+00\n",
      "Epoch 29/100\n",
      "4/4 [==============================] - 0s 7ms/step - loss: 0.9620 - acc: 0.0000e+00\n",
      "Epoch 30/100\n",
      "4/4 [==============================] - 0s 6ms/step - loss: 0.9619 - acc: 0.0000e+00\n",
      "Epoch 31/100\n",
      "4/4 [==============================] - 0s 6ms/step - loss: 0.9619 - acc: 0.0000e+00\n",
      "Epoch 32/100\n",
      "4/4 [==============================] - 0s 7ms/step - loss: 0.9619 - acc: 0.0000e+00\n",
      "Epoch 33/100\n",
      "4/4 [==============================] - 0s 8ms/step - loss: 0.9619 - acc: 0.0000e+00\n",
      "Epoch 34/100\n",
      "4/4 [==============================] - 0s 5ms/step - loss: 0.9619 - acc: 0.0000e+00\n",
      "Epoch 35/100\n",
      "4/4 [==============================] - 0s 7ms/step - loss: 0.9619 - acc: 0.0000e+00\n",
      "Epoch 36/100\n",
      "4/4 [==============================] - 0s 5ms/step - loss: 0.9619 - acc: 0.0000e+00\n",
      "Epoch 37/100\n",
      "4/4 [==============================] - 0s 7ms/step - loss: 0.9618 - acc: 0.0000e+00\n",
      "Epoch 38/100\n",
      "4/4 [==============================] - 0s 6ms/step - loss: 0.9618 - acc: 0.0000e+00\n",
      "Epoch 39/100\n",
      "4/4 [==============================] - 0s 6ms/step - loss: 0.9618 - acc: 0.0000e+00\n",
      "Epoch 40/100\n",
      "4/4 [==============================] - 0s 8ms/step - loss: 0.9618 - acc: 0.0000e+00\n",
      "Epoch 41/100\n",
      "4/4 [==============================] - 0s 5ms/step - loss: 0.9618 - acc: 0.0000e+00\n",
      "Epoch 42/100\n",
      "4/4 [==============================] - 0s 7ms/step - loss: 0.9618 - acc: 0.0000e+00\n",
      "Epoch 43/100\n",
      "4/4 [==============================] - 0s 7ms/step - loss: 0.9617 - acc: 0.0000e+00\n",
      "Epoch 44/100\n",
      "4/4 [==============================] - 0s 5ms/step - loss: 0.9617 - acc: 0.0000e+00\n",
      "Epoch 45/100\n",
      "4/4 [==============================] - 0s 6ms/step - loss: 0.9617 - acc: 0.0000e+00\n",
      "Epoch 46/100\n",
      "4/4 [==============================] - 0s 6ms/step - loss: 0.9617 - acc: 0.0000e+00\n",
      "Epoch 47/100\n",
      "4/4 [==============================] - 0s 6ms/step - loss: 0.9617 - acc: 0.0000e+00\n",
      "Epoch 48/100\n",
      "4/4 [==============================] - 0s 6ms/step - loss: 0.9617 - acc: 0.0000e+00\n",
      "Epoch 49/100\n",
      "4/4 [==============================] - 0s 8ms/step - loss: 0.9617 - acc: 0.0000e+00\n",
      "Epoch 50/100\n",
      "4/4 [==============================] - 0s 8ms/step - loss: 0.9616 - acc: 0.0000e+00\n",
      "Epoch 51/100\n",
      "4/4 [==============================] - 0s 6ms/step - loss: 0.9616 - acc: 0.0000e+00\n",
      "Epoch 52/100\n",
      "4/4 [==============================] - 0s 8ms/step - loss: 0.9616 - acc: 0.0000e+00\n",
      "Epoch 53/100\n",
      "4/4 [==============================] - 0s 6ms/step - loss: 0.9616 - acc: 0.0000e+00\n",
      "Epoch 54/100\n",
      "4/4 [==============================] - 0s 7ms/step - loss: 0.9616 - acc: 0.0000e+00\n",
      "Epoch 55/100\n",
      "4/4 [==============================] - 0s 7ms/step - loss: 0.9616 - acc: 0.0000e+00\n",
      "Epoch 56/100\n",
      "4/4 [==============================] - 0s 8ms/step - loss: 0.9615 - acc: 0.0000e+00\n",
      "Epoch 57/100\n",
      "4/4 [==============================] - 0s 7ms/step - loss: 0.9615 - acc: 0.0000e+00\n",
      "Epoch 58/100\n",
      "4/4 [==============================] - 0s 7ms/step - loss: 0.9615 - acc: 0.0000e+00\n",
      "Epoch 59/100\n",
      "4/4 [==============================] - 0s 6ms/step - loss: 0.9615 - acc: 0.0000e+00\n",
      "Epoch 60/100\n",
      "4/4 [==============================] - 0s 8ms/step - loss: 0.9615 - acc: 0.0000e+00\n",
      "Epoch 61/100\n",
      "4/4 [==============================] - 0s 7ms/step - loss: 0.9615 - acc: 0.0000e+00\n",
      "Epoch 62/100\n",
      "4/4 [==============================] - 0s 5ms/step - loss: 0.9615 - acc: 0.0000e+00\n",
      "Epoch 63/100\n",
      "4/4 [==============================] - 0s 6ms/step - loss: 0.9614 - acc: 0.0000e+00\n",
      "Epoch 64/100\n",
      "4/4 [==============================] - 0s 8ms/step - loss: 0.9614 - acc: 0.0000e+00\n",
      "Epoch 65/100\n",
      "4/4 [==============================] - 0s 6ms/step - loss: 0.9614 - acc: 0.0000e+00\n",
      "Epoch 66/100\n",
      "4/4 [==============================] - 0s 6ms/step - loss: 0.9614 - acc: 0.0000e+00\n",
      "Epoch 67/100\n",
      "4/4 [==============================] - 0s 7ms/step - loss: 0.9614 - acc: 0.0000e+00\n",
      "Epoch 68/100\n",
      "4/4 [==============================] - 0s 7ms/step - loss: 0.9614 - acc: 0.0000e+00\n",
      "Epoch 69/100\n",
      "4/4 [==============================] - 0s 5ms/step - loss: 0.9613 - acc: 0.0000e+00\n",
      "Epoch 70/100\n",
      "4/4 [==============================] - 0s 5ms/step - loss: 0.9613 - acc: 0.0000e+00\n",
      "Epoch 71/100\n",
      "4/4 [==============================] - 0s 5ms/step - loss: 0.9613 - acc: 0.0000e+00\n",
      "Epoch 72/100\n",
      "4/4 [==============================] - 0s 7ms/step - loss: 0.9613 - acc: 0.0000e+00\n",
      "Epoch 73/100\n",
      "4/4 [==============================] - 0s 6ms/step - loss: 0.9613 - acc: 0.0000e+00\n",
      "Epoch 74/100\n",
      "4/4 [==============================] - 0s 6ms/step - loss: 0.9613 - acc: 0.0000e+00\n",
      "Epoch 75/100\n",
      "4/4 [==============================] - 0s 5ms/step - loss: 0.9612 - acc: 0.0000e+00\n",
      "Epoch 76/100\n",
      "4/4 [==============================] - 0s 7ms/step - loss: 0.9612 - acc: 0.0000e+00\n",
      "Epoch 77/100\n",
      "4/4 [==============================] - 0s 7ms/step - loss: 0.9612 - acc: 0.0000e+00\n",
      "Epoch 78/100\n",
      "4/4 [==============================] - 0s 7ms/step - loss: 0.9612 - acc: 0.0000e+00\n",
      "Epoch 79/100\n",
      "4/4 [==============================] - 0s 7ms/step - loss: 0.9612 - acc: 0.0000e+00\n",
      "Epoch 80/100\n",
      "4/4 [==============================] - 0s 5ms/step - loss: 0.9612 - acc: 0.0000e+00\n",
      "Epoch 81/100\n",
      "4/4 [==============================] - 0s 7ms/step - loss: 0.9611 - acc: 0.0000e+00\n",
      "Epoch 82/100\n",
      "4/4 [==============================] - 0s 5ms/step - loss: 0.9611 - acc: 0.0000e+00\n",
      "Epoch 83/100\n",
      "4/4 [==============================] - 0s 6ms/step - loss: 0.9611 - acc: 0.0000e+00\n",
      "Epoch 84/100\n",
      "4/4 [==============================] - 0s 6ms/step - loss: 0.9611 - acc: 0.0000e+00\n",
      "Epoch 85/100\n",
      "4/4 [==============================] - 0s 7ms/step - loss: 0.9611 - acc: 0.0000e+00\n",
      "Epoch 86/100\n",
      "4/4 [==============================] - 0s 5ms/step - loss: 0.9611 - acc: 0.0000e+00\n",
      "Epoch 87/100\n",
      "4/4 [==============================] - 0s 5ms/step - loss: 0.9610 - acc: 0.0000e+00\n",
      "Epoch 88/100\n",
      "4/4 [==============================] - 0s 8ms/step - loss: 0.9610 - acc: 0.0000e+00\n",
      "Epoch 89/100\n",
      "4/4 [==============================] - 0s 7ms/step - loss: 0.9610 - acc: 0.0000e+00\n",
      "Epoch 90/100\n",
      "4/4 [==============================] - 0s 6ms/step - loss: 0.9610 - acc: 0.0000e+00\n",
      "Epoch 91/100\n",
      "4/4 [==============================] - 0s 7ms/step - loss: 0.9610 - acc: 0.0000e+00\n",
      "Epoch 92/100\n",
      "4/4 [==============================] - 0s 6ms/step - loss: 0.9609 - acc: 0.0000e+00\n",
      "Epoch 93/100\n",
      "4/4 [==============================] - 0s 8ms/step - loss: 0.9609 - acc: 0.0000e+00\n",
      "Epoch 94/100\n",
      "4/4 [==============================] - 0s 7ms/step - loss: 0.9609 - acc: 0.0000e+00\n",
      "Epoch 95/100\n",
      "4/4 [==============================] - 0s 8ms/step - loss: 0.9609 - acc: 0.0000e+00\n",
      "Epoch 96/100\n",
      "4/4 [==============================] - 0s 7ms/step - loss: 0.9609 - acc: 0.0000e+00\n",
      "Epoch 97/100\n",
      "4/4 [==============================] - 0s 7ms/step - loss: 0.9609 - acc: 0.0000e+00\n",
      "Epoch 98/100\n",
      "4/4 [==============================] - 0s 6ms/step - loss: 0.9608 - acc: 0.0000e+00\n",
      "Epoch 99/100\n",
      "4/4 [==============================] - 0s 7ms/step - loss: 0.9608 - acc: 0.0000e+00\n",
      "Epoch 100/100\n",
      "4/4 [==============================] - 0s 7ms/step - loss: 0.9608 - acc: 0.0000e+00\n",
      "You must install pydot (`pip install pydot`) and install graphviz (see instructions at https://graphviz.gitlab.io/download/) for plot_model to work.\n"
     ]
    },
    {
     "name": "stderr",
     "output_type": "stream",
     "text": [
      "/Users/billdeng/anaconda3/envs/de_novo/lib/python3.10/site-packages/keras/src/engine/training.py:3000: UserWarning: You are saving your model as an HDF5 file via `model.save()`. This file format is considered legacy. We recommend using instead the native Keras format, e.g. `model.save('my_model.keras')`.\n",
      "  saving_api.save_model(\n"
     ]
    },
    {
     "data": {
      "text/plain": "<keras.src.callbacks.History at 0x7fbdb13f9d20>"
     },
     "execution_count": 48,
     "metadata": {},
     "output_type": "execute_result"
    }
   ],
   "source": [
    "pulmonic_model.fit(DNA,label_pulmonic,epochs=100)"
   ],
   "metadata": {
    "collapsed": false
   }
  },
  {
   "cell_type": "code",
   "execution_count": 51,
   "outputs": [
    {
     "name": "stdout",
     "output_type": "stream",
     "text": [
      "Generated model-id: 'a860d0a5548d6ddc7333e368563da556'\n",
      "Model: \"janggu\"\n",
      "_________________________________________________________________\n",
      " Layer (type)                Output Shape              Param #   \n",
      "=================================================================\n",
      " dna (InputLayer)            [(None, 200, 1, 4)]       0         \n",
      "                                                                 \n",
      " conv1d_3 (Conv1D)           (None, 200, 1, 1)         5         \n",
      "                                                                 \n",
      " motif (GlobalAveragePoolin  (None, 1)                 0         \n",
      " g2D)                                                            \n",
      "                                                                 \n",
      " aorta_bigwig (Dense)        (None, 1)                 2         \n",
      "                                                                 \n",
      "=================================================================\n",
      "Total params: 7 (28.00 Byte)\n",
      "Trainable params: 7 (28.00 Byte)\n",
      "Non-trainable params: 0 (0.00 Byte)\n",
      "_________________________________________________________________\n"
     ]
    }
   ],
   "source": [
    "aorta_model = Janggu.create(template=Conv1D_model,\n",
    "                      modelparams=(30, 15, 'relu'),\n",
    "                      inputs=DNA, outputs=label_aorta)\n",
    "aorta_model.summary()"
   ],
   "metadata": {
    "collapsed": false
   }
  },
  {
   "cell_type": "code",
   "execution_count": 52,
   "outputs": [
    {
     "name": "stdout",
     "output_type": "stream",
     "text": [
      "Epoch 1/100\n",
      "4/4 [==============================] - 1s 5ms/step - loss: 0.4945 - acc: 0.6900\n",
      "Epoch 2/100\n",
      "4/4 [==============================] - 0s 5ms/step - loss: 0.4945 - acc: 0.6900\n",
      "Epoch 3/100\n",
      "4/4 [==============================] - 0s 7ms/step - loss: 0.4945 - acc: 0.6900\n",
      "Epoch 4/100\n",
      "4/4 [==============================] - 0s 6ms/step - loss: 0.4945 - acc: 0.6900\n",
      "Epoch 5/100\n",
      "4/4 [==============================] - 0s 8ms/step - loss: 0.4945 - acc: 0.6900\n",
      "Epoch 6/100\n",
      "4/4 [==============================] - 0s 5ms/step - loss: 0.4944 - acc: 0.6900\n",
      "Epoch 7/100\n",
      "4/4 [==============================] - 0s 8ms/step - loss: 0.4944 - acc: 0.6900\n",
      "Epoch 8/100\n",
      "4/4 [==============================] - 0s 5ms/step - loss: 0.4944 - acc: 0.6900\n",
      "Epoch 9/100\n",
      "4/4 [==============================] - 0s 7ms/step - loss: 0.4944 - acc: 0.6900\n",
      "Epoch 10/100\n",
      "4/4 [==============================] - 0s 5ms/step - loss: 0.4944 - acc: 0.6900\n",
      "Epoch 11/100\n",
      "4/4 [==============================] - 0s 6ms/step - loss: 0.4944 - acc: 0.6900\n",
      "Epoch 12/100\n",
      "4/4 [==============================] - 0s 5ms/step - loss: 0.4944 - acc: 0.6900\n",
      "Epoch 13/100\n",
      "4/4 [==============================] - 0s 5ms/step - loss: 0.4944 - acc: 0.6900\n",
      "Epoch 14/100\n",
      "4/4 [==============================] - 0s 6ms/step - loss: 0.4944 - acc: 0.6900\n",
      "Epoch 15/100\n",
      "4/4 [==============================] - 0s 7ms/step - loss: 0.4944 - acc: 0.6900\n",
      "Epoch 16/100\n",
      "4/4 [==============================] - 0s 7ms/step - loss: 0.4944 - acc: 0.6900\n",
      "Epoch 17/100\n",
      "4/4 [==============================] - 0s 5ms/step - loss: 0.4944 - acc: 0.6900\n",
      "Epoch 18/100\n",
      "4/4 [==============================] - 0s 7ms/step - loss: 0.4944 - acc: 0.6900\n",
      "Epoch 19/100\n",
      "4/4 [==============================] - 0s 8ms/step - loss: 0.4944 - acc: 0.6900\n",
      "Epoch 20/100\n",
      "4/4 [==============================] - 0s 6ms/step - loss: 0.4944 - acc: 0.6900\n",
      "Epoch 21/100\n",
      "4/4 [==============================] - 0s 7ms/step - loss: 0.4944 - acc: 0.6900\n",
      "Epoch 22/100\n",
      "4/4 [==============================] - 0s 6ms/step - loss: 0.4943 - acc: 0.6900\n",
      "Epoch 23/100\n",
      "4/4 [==============================] - 0s 7ms/step - loss: 0.4943 - acc: 0.6900\n",
      "Epoch 24/100\n",
      "4/4 [==============================] - 0s 7ms/step - loss: 0.4943 - acc: 0.6900\n",
      "Epoch 25/100\n",
      "4/4 [==============================] - 0s 6ms/step - loss: 0.4943 - acc: 0.6900\n",
      "Epoch 26/100\n",
      "4/4 [==============================] - 0s 7ms/step - loss: 0.4943 - acc: 0.6900\n",
      "Epoch 27/100\n",
      "4/4 [==============================] - 0s 8ms/step - loss: 0.4943 - acc: 0.6900\n",
      "Epoch 28/100\n",
      "4/4 [==============================] - 0s 7ms/step - loss: 0.4943 - acc: 0.6900\n",
      "Epoch 29/100\n",
      "4/4 [==============================] - 0s 7ms/step - loss: 0.4943 - acc: 0.6900\n",
      "Epoch 30/100\n",
      "4/4 [==============================] - 0s 7ms/step - loss: 0.4943 - acc: 0.6900\n",
      "Epoch 31/100\n",
      "4/4 [==============================] - 0s 7ms/step - loss: 0.4943 - acc: 0.6900\n",
      "Epoch 32/100\n",
      "4/4 [==============================] - 0s 5ms/step - loss: 0.4943 - acc: 0.6900\n",
      "Epoch 33/100\n",
      "4/4 [==============================] - 0s 6ms/step - loss: 0.4943 - acc: 0.6900\n",
      "Epoch 34/100\n",
      "4/4 [==============================] - 0s 5ms/step - loss: 0.4943 - acc: 0.6900\n",
      "Epoch 35/100\n",
      "4/4 [==============================] - 0s 5ms/step - loss: 0.4943 - acc: 0.6900\n",
      "Epoch 36/100\n",
      "4/4 [==============================] - 0s 5ms/step - loss: 0.4942 - acc: 0.6900\n",
      "Epoch 37/100\n",
      "4/4 [==============================] - 0s 7ms/step - loss: 0.4942 - acc: 0.6900\n",
      "Epoch 38/100\n",
      "4/4 [==============================] - 0s 5ms/step - loss: 0.4942 - acc: 0.6900\n",
      "Epoch 39/100\n",
      "4/4 [==============================] - 0s 5ms/step - loss: 0.4942 - acc: 0.6900\n",
      "Epoch 40/100\n",
      "4/4 [==============================] - 0s 7ms/step - loss: 0.4942 - acc: 0.6900\n",
      "Epoch 41/100\n",
      "4/4 [==============================] - 0s 7ms/step - loss: 0.4942 - acc: 0.6900\n",
      "Epoch 42/100\n",
      "4/4 [==============================] - 0s 6ms/step - loss: 0.4942 - acc: 0.6900\n",
      "Epoch 43/100\n",
      "4/4 [==============================] - 0s 7ms/step - loss: 0.4942 - acc: 0.6900\n",
      "Epoch 44/100\n",
      "4/4 [==============================] - 0s 5ms/step - loss: 0.4942 - acc: 0.6900\n",
      "Epoch 45/100\n",
      "4/4 [==============================] - 0s 7ms/step - loss: 0.4942 - acc: 0.6900\n",
      "Epoch 46/100\n",
      "4/4 [==============================] - 0s 7ms/step - loss: 0.4942 - acc: 0.6900\n",
      "Epoch 47/100\n",
      "4/4 [==============================] - 0s 4ms/step - loss: 0.4942 - acc: 0.6900\n",
      "Epoch 48/100\n",
      "4/4 [==============================] - 0s 7ms/step - loss: 0.4942 - acc: 0.6900\n",
      "Epoch 49/100\n",
      "4/4 [==============================] - 0s 6ms/step - loss: 0.4942 - acc: 0.6900\n",
      "Epoch 50/100\n",
      "4/4 [==============================] - 0s 5ms/step - loss: 0.4941 - acc: 0.6900\n",
      "Epoch 51/100\n",
      "4/4 [==============================] - 0s 6ms/step - loss: 0.4941 - acc: 0.6900\n",
      "Epoch 52/100\n",
      "4/4 [==============================] - 0s 7ms/step - loss: 0.4941 - acc: 0.6900\n",
      "Epoch 53/100\n",
      "4/4 [==============================] - 0s 6ms/step - loss: 0.4941 - acc: 0.6900\n",
      "Epoch 54/100\n",
      "4/4 [==============================] - 0s 5ms/step - loss: 0.4941 - acc: 0.6900\n",
      "Epoch 55/100\n",
      "4/4 [==============================] - 0s 5ms/step - loss: 0.4941 - acc: 0.6900\n",
      "Epoch 56/100\n",
      "4/4 [==============================] - 0s 4ms/step - loss: 0.4941 - acc: 0.6900\n",
      "Epoch 57/100\n",
      "4/4 [==============================] - 0s 5ms/step - loss: 0.4941 - acc: 0.6900\n",
      "Epoch 58/100\n",
      "4/4 [==============================] - 0s 5ms/step - loss: 0.4941 - acc: 0.6900\n",
      "Epoch 59/100\n",
      "4/4 [==============================] - 0s 5ms/step - loss: 0.4941 - acc: 0.6900\n",
      "Epoch 60/100\n",
      "4/4 [==============================] - 0s 4ms/step - loss: 0.4941 - acc: 0.6900\n",
      "Epoch 61/100\n",
      "4/4 [==============================] - 0s 6ms/step - loss: 0.4941 - acc: 0.6900\n",
      "Epoch 62/100\n",
      "4/4 [==============================] - 0s 7ms/step - loss: 0.4941 - acc: 0.6900\n",
      "Epoch 63/100\n",
      "4/4 [==============================] - 0s 8ms/step - loss: 0.4940 - acc: 0.6900\n",
      "Epoch 64/100\n",
      "4/4 [==============================] - 0s 7ms/step - loss: 0.4940 - acc: 0.6900\n",
      "Epoch 65/100\n",
      "4/4 [==============================] - 0s 6ms/step - loss: 0.4940 - acc: 0.6900\n",
      "Epoch 66/100\n",
      "4/4 [==============================] - 0s 6ms/step - loss: 0.4940 - acc: 0.6900\n",
      "Epoch 67/100\n",
      "4/4 [==============================] - 0s 5ms/step - loss: 0.4940 - acc: 0.6900\n",
      "Epoch 68/100\n",
      "4/4 [==============================] - 0s 5ms/step - loss: 0.4940 - acc: 0.6900\n",
      "Epoch 69/100\n",
      "4/4 [==============================] - 0s 5ms/step - loss: 0.4940 - acc: 0.6900\n",
      "Epoch 70/100\n",
      "4/4 [==============================] - 0s 5ms/step - loss: 0.4940 - acc: 0.6900\n",
      "Epoch 71/100\n",
      "4/4 [==============================] - 0s 6ms/step - loss: 0.4940 - acc: 0.6900\n",
      "Epoch 72/100\n",
      "4/4 [==============================] - 0s 6ms/step - loss: 0.4940 - acc: 0.6900\n",
      "Epoch 73/100\n",
      "4/4 [==============================] - 0s 5ms/step - loss: 0.4940 - acc: 0.6900\n",
      "Epoch 74/100\n",
      "4/4 [==============================] - 0s 7ms/step - loss: 0.4940 - acc: 0.6900\n",
      "Epoch 75/100\n",
      "4/4 [==============================] - 0s 6ms/step - loss: 0.4940 - acc: 0.6900\n",
      "Epoch 76/100\n",
      "4/4 [==============================] - 0s 7ms/step - loss: 0.4939 - acc: 0.6900\n",
      "Epoch 77/100\n",
      "4/4 [==============================] - 0s 5ms/step - loss: 0.4939 - acc: 0.6900\n",
      "Epoch 78/100\n",
      "4/4 [==============================] - 0s 7ms/step - loss: 0.4939 - acc: 0.6900\n",
      "Epoch 79/100\n",
      "4/4 [==============================] - 0s 8ms/step - loss: 0.4939 - acc: 0.6900\n",
      "Epoch 80/100\n",
      "4/4 [==============================] - 0s 5ms/step - loss: 0.4939 - acc: 0.6900\n",
      "Epoch 81/100\n",
      "4/4 [==============================] - 0s 6ms/step - loss: 0.4939 - acc: 0.6900\n",
      "Epoch 82/100\n",
      "4/4 [==============================] - 0s 6ms/step - loss: 0.4939 - acc: 0.6900\n",
      "Epoch 83/100\n",
      "4/4 [==============================] - 0s 9ms/step - loss: 0.4939 - acc: 0.6900\n",
      "Epoch 84/100\n",
      "4/4 [==============================] - 0s 6ms/step - loss: 0.4939 - acc: 0.6900\n",
      "Epoch 85/100\n",
      "4/4 [==============================] - 0s 5ms/step - loss: 0.4939 - acc: 0.6900\n",
      "Epoch 86/100\n",
      "4/4 [==============================] - 0s 6ms/step - loss: 0.4939 - acc: 0.6900\n",
      "Epoch 87/100\n",
      "4/4 [==============================] - 0s 6ms/step - loss: 0.4939 - acc: 0.6900\n",
      "Epoch 88/100\n",
      "4/4 [==============================] - 0s 6ms/step - loss: 0.4939 - acc: 0.6900\n",
      "Epoch 89/100\n",
      "4/4 [==============================] - 0s 9ms/step - loss: 0.4938 - acc: 0.6900\n",
      "Epoch 90/100\n",
      "4/4 [==============================] - 0s 7ms/step - loss: 0.4938 - acc: 0.6900\n",
      "Epoch 91/100\n",
      "4/4 [==============================] - 0s 8ms/step - loss: 0.4938 - acc: 0.6900\n",
      "Epoch 92/100\n",
      "4/4 [==============================] - 0s 6ms/step - loss: 0.4938 - acc: 0.6900\n",
      "Epoch 93/100\n",
      "4/4 [==============================] - 0s 6ms/step - loss: 0.4938 - acc: 0.6900\n",
      "Epoch 94/100\n",
      "4/4 [==============================] - 0s 6ms/step - loss: 0.4938 - acc: 0.6900\n",
      "Epoch 95/100\n",
      "4/4 [==============================] - 0s 6ms/step - loss: 0.4938 - acc: 0.6900\n",
      "Epoch 96/100\n",
      "4/4 [==============================] - 0s 7ms/step - loss: 0.4938 - acc: 0.6900\n",
      "Epoch 97/100\n",
      "4/4 [==============================] - 0s 9ms/step - loss: 0.4938 - acc: 0.6900\n",
      "Epoch 98/100\n",
      "4/4 [==============================] - 0s 5ms/step - loss: 0.4938 - acc: 0.6900\n",
      "Epoch 99/100\n",
      "4/4 [==============================] - 0s 7ms/step - loss: 0.4938 - acc: 0.6900\n",
      "Epoch 100/100\n",
      "4/4 [==============================] - 0s 7ms/step - loss: 0.4938 - acc: 0.6900\n",
      "You must install pydot (`pip install pydot`) and install graphviz (see instructions at https://graphviz.gitlab.io/download/) for plot_model to work.\n"
     ]
    },
    {
     "name": "stderr",
     "output_type": "stream",
     "text": [
      "/Users/billdeng/anaconda3/envs/de_novo/lib/python3.10/site-packages/keras/src/engine/training.py:3000: UserWarning: You are saving your model as an HDF5 file via `model.save()`. This file format is considered legacy. We recommend using instead the native Keras format, e.g. `model.save('my_model.keras')`.\n",
      "  saving_api.save_model(\n"
     ]
    },
    {
     "data": {
      "text/plain": "<keras.src.callbacks.History at 0x7fbdaf94d3c0>"
     },
     "execution_count": 52,
     "metadata": {},
     "output_type": "execute_result"
    }
   ],
   "source": [
    "aorta_model.compile(optimizer='adadelta', loss='binary_crossentropy',\n",
    "              metrics=['acc'])\n",
    "aorta_model.fit(DNA,label_aorta,epochs=100)"
   ],
   "metadata": {
    "collapsed": false
   }
  },
  {
   "cell_type": "code",
   "execution_count": null,
   "outputs": [],
   "source": [],
   "metadata": {
    "collapsed": false
   }
  }
 ],
 "metadata": {
  "kernelspec": {
   "name": "genes",
   "language": "python",
   "display_name": "Python (genes)"
  },
  "language_info": {
   "codemirror_mode": {
    "name": "ipython",
    "version": 3
   },
   "file_extension": ".py",
   "mimetype": "text/x-python",
   "name": "python",
   "nbconvert_exporter": "python",
   "pygments_lexer": "ipython3",
   "version": "3.9.10"
  }
 },
 "nbformat": 4,
 "nbformat_minor": 5
}
