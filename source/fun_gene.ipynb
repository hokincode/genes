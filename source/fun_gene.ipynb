{
 "cells": [
  {
   "cell_type": "code",
   "execution_count": null,
   "outputs": [],
   "source": [
    "import sys\n",
    "import pyBigWig\n",
    "print(sys.executable)"
   ],
   "metadata": {
    "collapsed": false
   }
  },
  {
   "cell_type": "markdown",
   "source": [],
   "metadata": {
    "collapsed": false
   }
  },
  {
   "cell_type": "code",
   "execution_count": null,
   "outputs": [],
   "source": [
    "from Bio import SeqIO\n",
    "import os"
   ],
   "metadata": {
    "collapsed": false
   }
  },
  {
   "cell_type": "markdown",
   "source": [
    "First, read and visualize input and output data."
   ],
   "metadata": {
    "collapsed": false
   }
  },
  {
   "cell_type": "code",
   "execution_count": null,
   "outputs": [],
   "source": [
    "# Get the current working directory\n",
    "current_dir = os.getcwd()\n",
    "\n",
    "# Print the current working directory\n",
    "print(f\"The current working directory is: {current_dir}\")"
   ],
   "metadata": {
    "collapsed": false
   }
  },
  {
   "cell_type": "code",
   "execution_count": null,
   "outputs": [],
   "source": [
    "# Path to FASTA file\n",
    "fasta_file = '../data/input.fa'\n",
    "\n",
    "# Initialize an empty dictionary to store sequences\n",
    "chromosomes = {}\n",
    "\n",
    "# Using SeqIO.parse to read the FASTA file\n",
    "for record in SeqIO.parse(fasta_file, \"fasta\"):\n",
    "    chromosome_name = record.id\n",
    "    sequence = str(record.seq)\n",
    "    chromosomes[chromosome_name] = sequence\n",
    "\n",
    "# Now, chromosomes dictionary contains all the sequences\n",
    "# For example, to access the sequence for chromosome 1, you can use:\n",
    "# chromosome_1_sequence = chromosomes['1']\n",
    "\n",
    "# If you want to print out the names of all chromosomes read, you can do:\n",
    "# print(\"Chromosomes read from the FASTA file:\")\n",
    "# for chromosome in chromosomes.keys():\n",
    "#     print(chromosome)"
   ],
   "metadata": {
    "collapsed": false
   }
  },
  {
   "cell_type": "code",
   "execution_count": null,
   "outputs": [],
   "source": [
    "for chromosome in chromosomes.keys():\n",
    "    print(chromosome)\n",
    "    # print(type(chromosome))  # This will print the type of the chromosome variable"
   ],
   "metadata": {
    "collapsed": false
   }
  },
  {
   "cell_type": "code",
   "execution_count": null,
   "id": "fb207357-326c-4ba2-b757-099fa01e184e",
   "metadata": {},
   "outputs": [],
   "source": [
    "print(type(chromosomes[chromosome_name]))"
   ]
  },
  {
   "cell_type": "code",
   "execution_count": null,
   "outputs": [],
   "source": [
    "chromosome_name = \"chr22\"  # Just an example, replace it with your actual key\n",
    "# Print the type of the object and a part of the object (if it's a string, for example)\n",
    "print(f\"Type: {type(chromosomes[chromosome_name])}, Beginning of Content: '{chromosomes[chromosome_name][:10]}'\")\n",
    "print(f\"Type: {len(chromosomes[chromosome_name])}, Beginning of Content: '{chromosomes[chromosome_name][1211231:1211252]}'\")"
   ],
   "metadata": {
    "collapsed": false
   }
  },
  {
   "cell_type": "markdown",
   "source": [
    "Use the de novo environment."
   ],
   "metadata": {
    "collapsed": false
   }
  },
  {
   "cell_type": "code",
   "execution_count": null,
   "outputs": [],
   "source": [
    "import os\n",
    "import numpy as np\n",
    "import tensorflow"
   ],
   "metadata": {
    "collapsed": false
   }
  },
  {
   "cell_type": "code",
   "execution_count": null,
   "outputs": [],
   "source": [
    "from keras import Model\n",
    "from keras import backend as K\n",
    "from keras.layers import Conv2D\n",
    "\n",
    "from keras.layers import Dense\n",
    "from keras.layers import GlobalAveragePooling2D\n",
    "from keras.layers import Input"
   ],
   "metadata": {
    "collapsed": false
   }
  },
  {
   "cell_type": "code",
   "execution_count": null,
   "outputs": [],
   "source": [
    "# from janggu import *"
   ],
   "metadata": {
    "collapsed": false
   }
  },
  {
   "cell_type": "code",
   "execution_count": null,
   "outputs": [],
   "source": [
    "from janggu.data import Bioseq\n",
    "from janggu.data import Cover\n",
    "from janggu.data import ReduceDim\n",
    "from janggu.layers import DnaConv2D\n",
    "from sklearn.metrics import roc_auc_score"
   ],
   "metadata": {
    "collapsed": false
   }
  },
  {
   "cell_type": "code",
   "execution_count": null,
   "outputs": [],
   "source": [
    "from pkg_resources import resource_filename"
   ],
   "metadata": {
    "collapsed": false
   }
  },
  {
   "cell_type": "code",
   "execution_count": null,
   "outputs": [],
   "source": [
    "from janggu.data import plotGenomeTrack\n",
    "\n",
    "from janggu.data import Cover\n",
    "from janggu.data import HeatTrack\n",
    "from janggu.data import LineTrack\n",
    "\n",
    "roi = resource_filename('janggu',\n",
    "                        'resources/sample.bed')\n",
    "\n",
    "bw_file = resource_filename('janggu',\n",
    "                            'resources/sample.bw')\n",
    "\n",
    "cover = Cover.create_from_bigwig('coverage1',\n",
    "                                 bigwigfiles=[bw_file] * 2,\n",
    "                                 conditions=['rep1', 'rep2'],\n",
    "                                 roi=roi,\n",
    "                                 binsize=200,\n",
    "                                 stepsize=200,\n",
    "                                 resolution=50)\n",
    "\n",
    "cover2 = Cover.create_from_bigwig('coverage2',\n",
    "                                  bigwigfiles=bw_file,\n",
    "                                  roi=roi,\n",
    "                                  binsize=200,\n",
    "                                  stepsize=200,\n",
    "                                  resolution=50)\n",
    "\n",
    "plotGenomeTrack([cover, cover2],\n",
    "                'chr1', 16000, 18000).savefig('coverage.png')\n",
    "\n",
    "plotGenomeTrack([HeatTrack(cover), LineTrack(cover2)],\n",
    "                'chr1', 16000, 18000).savefig('coverage2.png')"
   ],
   "metadata": {
    "collapsed": false
   }
  },
  {
   "cell_type": "code",
   "execution_count": null,
   "outputs": [],
   "source": [
    "import matplotlib.pyplot as plt\n",
    "# Open a bigWig file\n",
    "bw = pyBigWig.open(\"example.bw\")\n",
    "\n",
    "# Define the region of interest\n",
    "chrom = \"chr1\"\n",
    "start = 100000\n",
    "end = 101000\n",
    "\n",
    "# Retrieve values for the region\n",
    "values = bw.values(chrom, start, end)\n",
    "\n",
    "# Close the bigWig file\n",
    "bw.close()\n",
    "\n",
    "# Plot the values\n",
    "plt.plot(values)\n",
    "plt.xlabel(\"Position\")\n",
    "plt.ylabel(\"Value\")\n",
    "plt.title(f\"bigWig Data for {chrom}:{start}-{end}\")\n",
    "plt.show()"
   ],
   "metadata": {
    "collapsed": false
   }
  },
  {
   "cell_type": "markdown",
   "source": [
    "### Prepare Dataset"
   ],
   "metadata": {
    "collapsed": false
   }
  },
  {
   "cell_type": "code",
   "execution_count": 1,
   "outputs": [
    {
     "name": "stderr",
     "output_type": "stream",
     "text": [
      "2024-04-07 17:55:10.656454: I tensorflow/core/platform/cpu_feature_guard.cc:182] This TensorFlow binary is optimized to use available CPU instructions in performance-critical operations.\n",
      "To enable the following instructions: AVX2 FMA, in other operations, rebuild TensorFlow with the appropriate compiler flags.\n"
     ]
    }
   ],
   "source": [
    "from janggu.data import Bioseq\n",
    "from janggu.data import Cover\n",
    "from janggu.data import ReduceDim\n",
    "from janggu.data import SqueezeDim"
   ],
   "metadata": {
    "collapsed": false
   }
  },
  {
   "cell_type": "code",
   "execution_count": null,
   "outputs": [],
   "source": [
    "Train_Label_aorta = resource_filename('janggu', '../data/aorta.bw')"
   ],
   "metadata": {
    "collapsed": false
   }
  },
  {
   "cell_type": "markdown",
   "source": [
    "## Prepare Labels"
   ],
   "metadata": {
    "collapsed": false
   }
  },
  {
   "cell_type": "code",
   "execution_count": null,
   "outputs": [],
   "source": [
    "LABELS = SqueezeDim(ReduceDim(Cover.create_from_bed('peaks', roi=ROI_TRAIN_FILE,\n",
    "                               bedfiles=PEAK_FILE,\n",
    "                               binsize=200,\n",
    "                               resolution=200,\n",
    "                               cache=True,\n",
    "                               storage='sparse')))"
   ],
   "metadata": {
    "collapsed": false
   }
  },
  {
   "cell_type": "code",
   "execution_count": null,
   "outputs": [],
   "source": [],
   "metadata": {
    "collapsed": false
   }
  }
 ],
 "metadata": {
  "kernelspec": {
   "name": "genes",
   "language": "python",
   "display_name": "Python (genes)"
  },
  "language_info": {
   "codemirror_mode": {
    "name": "ipython",
    "version": 3
   },
   "file_extension": ".py",
   "mimetype": "text/x-python",
   "name": "python",
   "nbconvert_exporter": "python",
   "pygments_lexer": "ipython3",
   "version": "3.9.10"
  }
 },
 "nbformat": 4,
 "nbformat_minor": 5
}
