{
 "cells": [
  {
   "cell_type": "code",
   "execution_count": 1,
   "metadata": {
    "collapsed": true
   },
   "outputs": [],
   "source": [
    "import pyBigWig"
   ]
  },
  {
   "cell_type": "code",
   "execution_count": 3,
   "outputs": [
    {
     "name": "stdout",
     "output_type": "stream",
     "text": [
      "23\n"
     ]
    }
   ],
   "source": [
    "def count_chromosomes_in_bigwig(bigwig_path):\n",
    "    bw = pyBigWig.open(bigwig_path)\n",
    "    chromosome_count = len(bw.chroms())\n",
    "    bw.close()\n",
    "    return chromosome_count\n",
    "\n",
    "# Replace 'aorta.bigWig' with the path to your BigWig file\n",
    "print(count_chromosomes_in_bigwig('aorta.bw'))"
   ],
   "metadata": {
    "collapsed": false
   }
  },
  {
   "cell_type": "code",
   "execution_count": null,
   "outputs": [],
   "source": [
    "def split_bigwig_1_22(input_bigwig):\n",
    "    bw = pyBigWig.open(input_bigwig)\n",
    "    chromosomes = [f'chr{i}' for i in range(1, 22)]  # Chromosomes 1-21\n",
    "    output_filename = f\"{'aorta_1_22'}.bw\"\n",
    "    with pyBigWig.open(output_filename, 'w') as out_bw:\n",
    "        for chrom in chromosomes:\n",
    "            chrom_size = bw.chroms().get(chrom)\n",
    "            if chrom_size:\n",
    "                out_bw.addHeader([(chrom, chrom_size)])\n",
    "                intervals = bw.intervals(chrom)\n",
    "                if intervals:\n",
    "                    for start, end, value in intervals:\n",
    "                        out_bw.addEntries([chrom], [start], ends=[end], values=[value])\n",
    "\n",
    "    bw.close()\n",
    "\n",
    "input_bigwig_path = \"aorta.bw\"\n",
    "split_bigwig_1_22(input_bigwig_path)"
   ],
   "metadata": {
    "collapsed": false
   }
  },
  {
   "cell_type": "markdown",
   "source": [
    "Took 3 hours"
   ],
   "metadata": {
    "collapsed": false
   }
  },
  {
   "cell_type": "code",
   "execution_count": null,
   "outputs": [],
   "source": [],
   "metadata": {
    "collapsed": false
   }
  }
 ],
 "metadata": {
  "kernelspec": {
   "display_name": "Python 3",
   "language": "python",
   "name": "python3"
  },
  "language_info": {
   "codemirror_mode": {
    "name": "ipython",
    "version": 2
   },
   "file_extension": ".py",
   "mimetype": "text/x-python",
   "name": "python",
   "nbconvert_exporter": "python",
   "pygments_lexer": "ipython2",
   "version": "2.7.6"
  }
 },
 "nbformat": 4,
 "nbformat_minor": 0
}
